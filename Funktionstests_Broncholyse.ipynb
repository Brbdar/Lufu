{
 "cells": [
  {
   "cell_type": "code",
   "execution_count": null,
   "id": "69c4b788",
   "metadata": {},
   "outputs": [],
   "source": [
    "import streamlit as st\n",
    "\n",
    "def Funktionstests_Broncholyse():\n",
    "    st.header(\"Funktionstests - Broncholyse\")\n",
    "    \n",
    "    st.write(\"XX\")\n",
    "    \n",
    "    with st.expander(\"XX\"):\n",
    "        st.write(\"\"\"\n",
    "        - XX.\n",
    "        - XX\n",
    "        - XX\n",
    "        - XX\n",
    "        - XX\n",
    "        \"\"\")\n",
    "\n",
    "    with st.expander(\"XX\"):\n",
    "        st.write(\"\"\"\n",
    "        - XX\n",
    "        - XX\n",
    "        - XX\n",
    "        \"\"\")"
   ]
  }
 ],
 "metadata": {
  "kernelspec": {
   "display_name": "Python 3 (ipykernel)",
   "language": "python",
   "name": "python3"
  },
  "language_info": {
   "codemirror_mode": {
    "name": "ipython",
    "version": 3
   },
   "file_extension": ".py",
   "mimetype": "text/x-python",
   "name": "python",
   "nbconvert_exporter": "python",
   "pygments_lexer": "ipython3",
   "version": "3.11.3"
  }
 },
 "nbformat": 4,
 "nbformat_minor": 5
}
