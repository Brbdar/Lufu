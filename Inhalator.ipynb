{
 "cells": [
  {
   "cell_type": "code",
   "execution_count": 6,
   "id": "db5a056e",
   "metadata": {},
   "outputs": [],
   "source": [
    "import streamlit as st\n",
    "\n",
    "def Inhalator():\n",
    "    class Patient:\n",
    "        def __init__(self, spontane_atmung, gute_koordination, inspirationsfluss):\n",
    "            self.spontane_atmung = spontane_atmung\n",
    "            self.gute_koordination = gute_koordination\n",
    "            self.inspirationsfluss = inspirationsfluss\n",
    "\n",
    "    def empfehlung_für_inhalationssystem(patient):\n",
    "        if patient.spontane_atmung == \"Nein\":\n",
    "            return \"Überdruckinhalator mit Spacer oder Vernebler (z.B. intubierter, beatmeter Patient)\"\n",
    "        if patient.gute_koordination == \"Nein\":\n",
    "            if patient.inspirationsfluss > 30:\n",
    "                return \"Dosieraerosol mit Spacer oder atemzugsgesteuert, Vernebler\"\n",
    "            return \"Dosieraerosol mit Spacer oder Vernebler (z.B. Kinder, geriatrische Patienten)\"\n",
    "        if patient.inspirationsfluss > 30:\n",
    "            return \"Dosieraerosol, Trockenpulverinhalation oder Vernebler\"\n",
    "        return \"Dosieraerosol oder Vernebler (z.B. bei Patienten mit schwerer Störung des Atemflusses)\"\n",
    "\n",
    "    def show_empfehlung():\n",
    "        st.header(\"Der richtige Inhalator?\")\n",
    "\n",
    "        spontane_atmung = st.radio(\"Hat der Patient eine spontane Atmung?\", (\"Ja\", \"Nein\"))\n",
    "        gute_koordination = st.radio(\"Hat der Patient eine gute Koordination?\", (\"Ja\", \"Nein\"))\n",
    "        inspirationsfluss = st.number_input(\"Bitte geben Sie den Inspirationsfluss des Patienten ein:\", min_value=0, max_value=100, step=1, value=30)\n",
    "\n",
    "        patient = Patient(spontane_atmung, gute_koordination, inspirationsfluss)\n",
    "\n",
    "        if st.button(\"Empfehlung anzeigen\"):\n",
    "            empfehlung = empfehlung_für_inhalationssystem(patient)\n",
    "            st.success(f\"Empfohlenes Inhalationssystem: {empfehlung}\")  # Verwendung von st.success für eine hervorgehobene Anzeige\n",
    "\n",
    "            # Zusätzliche Informationen zu Inhalationssystemen\n",
    "            st.subheader(\"Zusätzliche Informationen\")\n",
    "            st.markdown(\"\"\"\n",
    "            - **Dosieraerosole (MDI):** Geeignet für Patienten mit geringem maximalen inspiratorischen Druck (PImax) und guten Koordinationsfähigkeiten.\n",
    "            - **Pulverinhalatoren (DPI):** Erfordern einen gerätespezifischen minimalen Inspirationsfluss. Bei schwerer Obstruktion mit stark eingeschränkten Flussraten kann die Inhalation mittels MDI der Pulverinhalation überlegen sein.\n",
    "            - **Sprühvernebler:** Geeignet für Patienten mit geringem maximalen inspiratorischen Druck (PImax) und langsamer, kontinuierlicher Inhalation.\n",
    "            - **Vernebler zur Feuchtinhalation:** Inhalation erfolgt möglichst langsam und tief. Geeignet für Patienten mit normalem Atemzugvolumen.\n",
    "            - **Checklisten:** Hilfreich zur Überprüfung der Inhalationstechnik.\n",
    "            \"\"\")\n",
    "            st.markdown(\"---\")\n",
    "\n",
    "    show_empfehlung()\n"
   ]
  }
 ],
 "metadata": {
  "kernelspec": {
   "display_name": "Python 3 (ipykernel)",
   "language": "python",
   "name": "python3"
  },
  "language_info": {
   "codemirror_mode": {
    "name": "ipython",
    "version": 3
   },
   "file_extension": ".py",
   "mimetype": "text/x-python",
   "name": "python",
   "nbconvert_exporter": "python",
   "pygments_lexer": "ipython3",
   "version": "3.11.3"
  }
 },
 "nbformat": 4,
 "nbformat_minor": 5
}
