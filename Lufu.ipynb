{
 "cells": [
  {
   "cell_type": "code",
   "execution_count": 23,
   "id": "bc21ccc2",
   "metadata": {},
   "outputs": [
    {
     "data": {
      "text/plain": [
       "DeltaGenerator()"
      ]
     },
     "execution_count": 23,
     "metadata": {},
     "output_type": "execute_result"
    }
   ],
   "source": [
    "import streamlit as st\n",
    "\n",
    "# Hauptteil der App\n",
    "st.title(\"Pneumo-App\")\n",
    "\n",
    "# Copyright-Text in kleiner Schrift\n",
    "st.markdown(\"© Bruno Brito da Rocha 2024\", unsafe_allow_html=True)\n"
   ]
  },
  {
   "cell_type": "code",
   "execution_count": 24,
   "id": "66b1403a",
   "metadata": {
    "scrolled": true
   },
   "outputs": [],
   "source": [
    "from spirometrie_qualitativ import spirometrie_qualitativ"
   ]
  },
  {
   "cell_type": "code",
   "execution_count": 25,
   "id": "5a545d0c",
   "metadata": {},
   "outputs": [],
   "source": [
    "from tiffeneau_index_berechnung import tiffeneau_index_berechnung1"
   ]
  },
  {
   "cell_type": "code",
   "execution_count": 26,
   "id": "086b05a9",
   "metadata": {},
   "outputs": [],
   "source": [
    "from Bodyplethysmographie_Residualvolumen import Bodyplethysmographie_Residualvolumen"
   ]
  },
  {
   "cell_type": "code",
   "execution_count": 27,
   "id": "2cb696d4",
   "metadata": {},
   "outputs": [],
   "source": [
    "from Bodyplethysmographie_Fluss_Druck_Kurve import Bodyplethysmographie_Fluss_Druck_Kurve"
   ]
  },
  {
   "cell_type": "code",
   "execution_count": 28,
   "id": "314a855e",
   "metadata": {},
   "outputs": [],
   "source": [
    "from Funktionstests_Broncholyse import Funktionstests_Broncholyse"
   ]
  },
  {
   "cell_type": "code",
   "execution_count": 29,
   "id": "b9d0cf38",
   "metadata": {},
   "outputs": [],
   "source": [
    "from Funktionstests_Provokation import Funktionstests_Provokation"
   ]
  },
  {
   "cell_type": "code",
   "execution_count": 30,
   "id": "80d9bed3",
   "metadata": {},
   "outputs": [],
   "source": [
    "from P0_Atemkraftmessung import P0_Atemkraftmessung"
   ]
  },
  {
   "cell_type": "code",
   "execution_count": 31,
   "id": "d02be75f",
   "metadata": {},
   "outputs": [],
   "source": [
    "from Gasaustausch_Transferfaktor import Gasaustausch_Transferfaktor"
   ]
  },
  {
   "cell_type": "code",
   "execution_count": 32,
   "id": "19f613d2",
   "metadata": {},
   "outputs": [],
   "source": [
    "from Gasaustausch_Blutgasanalyse import Gasaustausch_Blutgasanalyse"
   ]
  },
  {
   "cell_type": "code",
   "execution_count": 33,
   "id": "3177b9a8",
   "metadata": {},
   "outputs": [],
   "source": [
    "from Compliancemessung import Compliancemessung"
   ]
  },
  {
   "cell_type": "code",
   "execution_count": 34,
   "id": "b72b856d",
   "metadata": {},
   "outputs": [],
   "source": [
    "from LTOT import LTOT"
   ]
  },
  {
   "cell_type": "code",
   "execution_count": 35,
   "id": "766f7642",
   "metadata": {},
   "outputs": [],
   "source": [
    "from EKG import EKG"
   ]
  },
  {
   "cell_type": "code",
   "execution_count": 36,
   "id": "8ddf30f4",
   "metadata": {},
   "outputs": [],
   "source": [
    "from Klinik import Klinik"
   ]
  },
  {
   "cell_type": "code",
   "execution_count": 37,
   "id": "b9b2c8a6",
   "metadata": {},
   "outputs": [],
   "source": [
    "from HFpEF_Score import HFpEF_Score"
   ]
  },
  {
   "cell_type": "code",
   "execution_count": 38,
   "id": "a6fb46a0",
   "metadata": {},
   "outputs": [],
   "source": [
    "from COPD_Score import COPD_Score"
   ]
  },
  {
   "cell_type": "code",
   "execution_count": 39,
   "id": "f37dbd4d",
   "metadata": {},
   "outputs": [],
   "source": [
    "from Blutkultur import Blutkultur"
   ]
  },
  {
   "cell_type": "code",
   "execution_count": 40,
   "id": "8fb8ef6a",
   "metadata": {},
   "outputs": [],
   "source": [
    "from chadsvascore import chadsvascore"
   ]
  },
  {
   "cell_type": "code",
   "execution_count": 41,
   "id": "f528fb93",
   "metadata": {},
   "outputs": [],
   "source": [
    "from erguss1 import erguss1"
   ]
  },
  {
   "cell_type": "code",
   "execution_count": 42,
   "id": "b72fcce2",
   "metadata": {},
   "outputs": [],
   "source": [
    "from rhkbefund import rhkbefund"
   ]
  },
  {
   "cell_type": "code",
   "execution_count": 43,
   "id": "bf80d694",
   "metadata": {},
   "outputs": [],
   "source": [
    "from rfi import rfi"
   ]
  },
  {
   "cell_type": "code",
   "execution_count": 44,
   "id": "e5b4179b",
   "metadata": {},
   "outputs": [],
   "source": [
    "from ane1 import ane1 "
   ]
  },
  {
   "cell_type": "code",
   "execution_count": 45,
   "id": "42c66ee2",
   "metadata": {},
   "outputs": [],
   "source": [
    "from ruleout import ruleout"
   ]
  },
  {
   "cell_type": "code",
   "execution_count": 49,
   "id": "2c3e4c9b",
   "metadata": {},
   "outputs": [],
   "source": [
    "from raai import raai"
   ]
  },
  {
   "cell_type": "code",
   "execution_count": null,
   "id": "55a52cc0",
   "metadata": {},
   "outputs": [],
   "source": [
    "from embo import embo"
   ]
  },
  {
   "cell_type": "code",
   "execution_count": 50,
   "id": "f3cf06f3",
   "metadata": {},
   "outputs": [],
   "source": [
    "# Multiselect Box für die Auswahl der Seiten\n",
    "selected_pages_lufu = st.multiselect(\"Wählen Sie eine oder mehrere Seiten aus dem Bereich Lungenfunktion aus:\",\n",
    "                                [\"Spirometrie qualitativ\", \"Spirometrie quantitativ\", \"Bodyplethysmographie - Residualvolumen\",\n",
    "                                \"Bodyplethysmographie - Fluss-Druck-Kurve\", \"Funktionstests - Broncholyse\", \"Funktionstests - Provokation\",\n",
    "                                \"Gasaustausch - Transferfaktor\", \"Gasaustausch - Blutgasanalyse\", \"P0-Atemkraftmessung\",\n",
    "                                \"Compliancemessung\", \"LTOT - Algorithmus\"], key=\"lufu\")\n",
    "\n",
    "# Logik zur Anzeige der ausgewählten Seiten\n",
    "if 'Spirometrie Qualitativ' in selected_pages_lufu:\n",
    "    spirometrie_qualitativ()\n",
    "if 'Spirometrie quantitativ' in selected_pages_lufu:\n",
    "    tiffeneau_index_berechnung1()\n",
    "if \"Bodyplethysmographie - Residualvolumen\" in selected_pages_lufu:\n",
    "    Bodyplethysmographie_Residualvolumen()\n",
    "if \"Bodyplethysmographie - Fluss-Druck-Kurve\" in selected_pages_lufu:\n",
    "    Bodyplethysmographie_Fluss_Druck_Kurve()\n",
    "if \"Funktionstests - Broncholyse\" in selected_pages_lufu:\n",
    "    Funktionstests_Broncholyse()\n",
    "if \"Funktionstests - Provokation\" in selected_pages_lufu:\n",
    "    Funktionstests_Provokation()\n",
    "if \"Gasaustausch - Transferfaktor\" in selected_pages_lufu:\n",
    "    Gasaustausch_Transferfaktor()\n",
    "if \"Gasaustausch - Blutgasanalyse\" in selected_pages_lufu:\n",
    "    Gasaustausch_Blutgasanalyse()\n",
    "if \"P0-Atemkraftmessung\" in selected_pages_lufu:\n",
    "    P0_Atemkraftmessung()\n",
    "if \"Compliancemessung\" in selected_pages_lufu:\n",
    "    Compliancemessung()\n",
    "if \"LTOT - Algorithmus\" in selected_pages_lufu:\n",
    "    LTOT()\n",
    "\n",
    "selected_pages_spiro = st.multiselect(\"Wählen Sie eine oder mehrere Seiten aus dem Bereich Spiroergometrie aus:\",\n",
    "                                [\"XXX\", \"XXX\"], key=\"Spiroergo\")\n",
    "\n",
    "selected_pages_ph = st.multiselect(\"Wählen Sie eine oder mehrere Seiten aus dem Bereich PH Diagnostik aus:\",\n",
    "                                [\"EKG\", \"Klinik\", \"Thorax-Röntgen\", \"Lungenfunktion und arterielle Gase\",\"der RHK Befund\"], key=\"pulmonalehypertonie\")\n",
    "\n",
    "if \"EKG\" in selected_pages_ph:\n",
    "    EKG()\n",
    "if \"Klinik\" in selected_pages_ph:\n",
    "    Klinik()\n",
    "if \"Thorax Röntgen\" in selected_pages_ph:\n",
    "    Thorax_roentgen()\n",
    "if \"Lungenfunktion und Blutgase\" in selected_pages_ph:\n",
    "    Lufu_BGA()   \n",
    "if \"der RHK Befund\" in selected_pages_ph:\n",
    "    rhkbefund()\n",
    "\n",
    "selected_pages_copd = st.multiselect(\"Wählen Sie eine oder mehrere Seiten aus dem Bereich COPD aus:\",\n",
    "                                [\"COPD Score\"], key=\"COPD\")\n",
    "\n",
    "if \"COPD Score\" in selected_pages_copd:\n",
    "    COPD_Score()\n",
    "\n",
    "selected_pages_ane = st.multiselect(\"Wählen Sie eine oder mehrere Seiten aus dem Bereich Anämie aus:\",\n",
    "                                [\"Mikrozytäre Anämie\"], key=\"Anämie\")\n",
    "\n",
    "if \"Mikrozytäre Anämie\" in selected_pages_ane:\n",
    "    ane1()\n",
    "\n",
    "selected_pages_scores = st.multiselect(\"Wählen Sie eine oder mehrere Seiten aus dem Bereich Scores & Algorithmen aus:\",\n",
    "                                [\"HFpEF Score\", \"Blutkultur\",\"CHA₂DS₂-VASc Score\",\"Pleuraerguss\",\"Renal Failure Index\",\"Rule out ACS\",\"RV Diastole\",\"Verdacht auf Lungenembolie\"], key=\"Scores\")\n",
    "\n",
    "if \"HFpEF Score\" in selected_pages_scores:\n",
    "    HFpEF_Score()\n",
    "if \"RV Diastole\" in selected_pages_scores:\n",
    "    raai()\n",
    "if \"Blutkultur\" in selected_pages_scores:\n",
    "    Blutkultur()\n",
    "if \"CHA₂DS₂-VASc Score\" in selected_pages_scores:\n",
    "    chadsvascore()\n",
    "if \"Pleuraerguss\" in selected_pages_scores:\n",
    "    erguss1()\n",
    "if \"Renal Failure Index\" in selected_pages_scores:\n",
    "    rfi()\n",
    "if \"Rule out ACS\" in selected_pages_scores:\n",
    "    ruleout()\n",
    "if \"Verdacht auf Lungenembolie\" in selected_pages_scores:\n",
    "    embo()\n",
    "    \n",
    "\n",
    "with st.expander(\"Rechtlicher Hinweis\"):\n",
    "\n",
    "    st.write(\"\"\"\n",
    "        **Offizieller rechtlicher Hinweis**\n",
    "\n",
    "        Diese Anwendung beinhaltet klinische Werkzeuge und Inhalte, die für die Nutzung durch medizinisches Fachpersonal vorgesehen sind. Diese Werkzeuge stellen keine professionelle Beratung dar; Ärzte und anderes medizinisches Fachpersonal, die diese Werkzeuge nutzen, sollten ihr eigenes klinisches Urteil in Bezug auf die von ihnen bereitgestellten Informationen ausüben. Nicht-medizinische Nutzer, die diese Werkzeuge verwenden, tun dies auf eigenes Risiko. Personen mit jeglichen medizinischen Bedingungen wird ausdrücklich geraten, professionellen medizinischen Rat einzuholen, bevor sie irgendeine Art von Gesundheitsbehandlung beginnen. Bei medizinischen Anliegen, einschließlich Entscheidungen über Medikamente und andere Behandlungen, sollten nicht-medizinische Nutzer immer ihren Arzt oder einen anderen qualifizierten Gesundheitsdienstleister konsultieren.\n",
    "\n",
    "        Die Inhaltsentwickler haben sorgfältig versucht, die Inhalte gemäß den Standards der professionellen Praxis zu gestalten, die zum Zeitpunkt der Entwicklung herrschten. Dennoch ändern sich Standards und Praktiken in der Medizin, da neue Daten verfügbar werden, und der einzelne medizinische Fachmann sollte eine Vielzahl von Quellen konsultieren.\n",
    "\n",
    "        Die Inhalte dieser Anwendung, wie Texte, Grafiken und Bilder, dienen nur zu Informationszwecken. Es wird keine spezifische Empfehlung oder Befürwortung für bestimmte Tests, Ärzte, Produkte, Verfahren, Meinungen oder andere auf der Plattform erwähnte Informationen ausgesprochen.\n",
    "\n",
    "        Obwohl die Informationen aus Quellen stammen, die als zuverlässig erachtet werden, wird weder die Genauigkeit der Informationen auf dieser Plattform noch von unseren Inhaltsanbietern garantiert.\n",
    "\n",
    "        Wir erteilen keine medizinischen Ratschläge, noch bieten wir medizinische oder diagnostische Dienstleistungen an. Medizinische Informationen ändern sich schnell. Weder wir noch unsere Inhaltsanbieter garantieren, dass die Inhalte alle möglichen Anwendungen, Anweisungen, Vorsichtsmaßnahmen, Wechselwirkungen mit Medikamenten oder Nebenwirkungen, die mit therapeutischen Behandlungen verbunden sein können, abdecken.\n",
    "\n",
    "        Die Nutzung der Informationen und Inhalte, die Sie durch diese Plattform erhalten, erfolgt ausschließlich auf Ihr eigenes Risiko. Weder wir noch unsere Inhaltsanbieter übernehmen irgendeine Haftung oder Verantwortung für Schäden oder Verletzungen (einschließlich Tod) an Ihnen, anderen Personen oder Eigentum, die aus der Nutzung von Produkten, Informationen, Ideen oder Anweisungen resultieren, die in den bereitgestellten Inhalten oder Diensten an Sie vermittelt werden.\n",
    "        \"\"\")\n",
    "\n",
    "# Fügen Sie weitere Bedingungen für jede Auswahlmöglichkeit hinzu\n",
    "\n"
   ]
  },
  {
   "cell_type": "code",
   "execution_count": 56,
   "id": "effbb901",
   "metadata": {},
   "outputs": [],
   "source": [
    "import streamlit as st\n",
    "\n",
    "def setup_sidebar():\n",
    "    # Titel und Auswahl für den Bereich Lungenfunktion\n",
    "    st.sidebar.title(\"🌬️ Analysebereiche - Lungenfunktion\")\n",
    "    analyse_bereich_lungenfunktion = st.sidebar.multiselect(\n",
    "        \"Wählen Sie die gewünschten Lungenfunktionstests:\",\n",
    "        [\n",
    "            \"Spirometrie qualitativ\", \"Spirometrie quantitativ\", \"Bodyplethysmographie - Residualvolumen\",\n",
    "            \"Bodyplethysmographie - Fluss-Druck-Kurve\", \"Funktionstests - Broncholyse\", \"Funktionstests - Provokation\",\n",
    "            \"Gasaustausch - Transferfaktor\", \"Gasaustausch - Blutgasanalyse\", \"P0-Atemkraftmessung\",\n",
    "            \"Compliancemessung\", \"LTOT - Algorithmus\"\n",
    "        ],\n",
    "        key=\"analysebereich_lungenfunktion\"\n",
    "    )\n",
    "    process_selection(analyse_bereich_lungenfunktion)\n",
    "\n",
    "    # Bereich Spiroergometrie\n",
    "    st.sidebar.title(\"🚴🏼‍♂️ Spiroergometrie\")\n",
    "    analyse_bereich_spiroergometrie = st.sidebar.multiselect(\n",
    "        \"Wählen Sie relevante Tests für Spiroergometrie:\",\n",
    "        [\"XXX\", \"XXX\"],  # Bitte die Platzhalter mit realen Werten ersetzen\n",
    "        key=\"analysebereich_spiroergometrie\"\n",
    "    )\n",
    "    process_selection(analyse_bereich_spiroergometrie)\n",
    "\n",
    "    # Bereich pulmonale Hypertonie\n",
    "    st.sidebar.title(\"🫀 Detect Algorithmus - pulmonale Hypertonie\")\n",
    "    analyse_bereich_rechtsherzkatheter = st.sidebar.multiselect(\n",
    "        \"Wählen Sie Tests für die Diagnose von pulmonaler Hypertonie:\",\n",
    "        [\n",
    "            \"EKG\", \"Klinik\", \"Thorax-Röntgen\", \"Lungenfunktion und arterielle Gase\", \"der RHK Befund\"\n",
    "        ],\n",
    "        key=\"analysebereich_rechtsherzkatheter\"\n",
    "    )\n",
    "    process_selection(analyse_bereich_rechtsherzkatheter)\n",
    "\n",
    "    # Bereich COPD\n",
    "    st.sidebar.title(\"COPD\")\n",
    "    analyse_bereich_COPD = st.sidebar.multiselect(\n",
    "        \"Wählen Sie Tests für COPD:\",\n",
    "        [\"COPD Score\"],\n",
    "        key=\"analysebereich_COPD\"\n",
    "    )\n",
    "    process_selection(analyse_bereich_COPD)\n",
    "\n",
    "    # Bereich Anämie\n",
    "    st.sidebar.title(\"Anämie\")\n",
    "    analyse_bereich_Anämie = st.sidebar.multiselect(\n",
    "        \"Wählen Sie Tests für Anämie:\",\n",
    "        [\"Mikrozytäre Anämie\"],\n",
    "        key=\"analysebereich_Anämie\"\n",
    "    )\n",
    "    process_selection(analyse_bereich_Anämie)\n",
    "\n",
    "    # Bereich Scores und Algorithmen\n",
    "    st.sidebar.title(\"Scores und Algorithmen\")\n",
    "    analyse_bereich_scores = st.sidebar.multiselect(\n",
    "        \"Wählen Sie relevante Scores und Algorithmen:\",\n",
    "        [\"HFpEF Score\", \"Blutkultur\", \"CHA₂DS₂-VASc Score\", \"Pleuraerguss\", \"Renal Failure Index \",\"Rule out ACS\",\"RV Diastole\",\"Verdacht auf Lungenembolie\"],\n",
    "        key=\"analysebereich_scores\"\n",
    "    )\n",
    "    process_selection(analyse_bereich_scores)\n",
    "\n",
    "def process_selection(selection):\n",
    "    # Fügen Sie hier die Logik zum Aufrufen von Funktionen basierend auf der Auswahl hinzu\n",
    "    if \"Spirometrie qualitativ\" in selection:\n",
    "        spirometrie_qualitativ()\n",
    "    if \"Spirometrie quantitativ\" in selection:\n",
    "        tiffeneau_index_berechnung1()\n",
    "    if \"Bodyplethysmographie - Residualvolumen\" in selection:\n",
    "        Bodyplethysmographie_Residualvolumen()\n",
    "    if \"Bodyplethysmographie - Fluss-Druck-Kurve\" in selection:\n",
    "        Bodyplethysmographie_Fluss_Druck_Kurve()\n",
    "    if \"Funktionstests - Broncholyse\" in selection:\n",
    "        Funktionstests_Broncholyse()\n",
    "    if \"Funktionstests - Provokation\" in selection:\n",
    "        Funktionstests_Provokation()\n",
    "    if \"Gasaustausch - Transferfaktor\" in selection:\n",
    "        Gasaustausch_Transferfaktor()\n",
    "    if \"Gasaustausch - Blutgasanalyse\" in selection:\n",
    "        Gasaustausch_Blutgasanalyse()\n",
    "    if \"P0-Atemkraftmessung\" in selection:\n",
    "        P0_Atemkraftmessung()\n",
    "    if \"Compliancemessung\" in selection:\n",
    "        Compliancemessung()\n",
    "    if \"LTOT - Algorithmus\" in selection:\n",
    "        LTOT()\n",
    "    if \"EKG\" in selection:\n",
    "        EKG()\n",
    "    if \"Klinik\" in selection:\n",
    "        Klinik()\n",
    "    if \"Thorax Röntgen\" in selection:\n",
    "        Thorax_roentgen()\n",
    "    if \"Lungenfunktion und Blutgase\" in selection:\n",
    "        Lufu_BGA()\n",
    "    if \"HFpEF Score\" in selection:\n",
    "        HFpEF_Score()\n",
    "    if \"Blutkultur\" in selection:\n",
    "        Blutkultur()\n",
    "    if \"COPD Score\" in selection:\n",
    "        COPD_Score()\n",
    "    if \"CHA₂DS₂-VASc Score\" in selection:\n",
    "        chadsvascore()\n",
    "    if \"Pleuraerguss\" in selection:\n",
    "        erguss1()\n",
    "    if \"der RHK Befund\" in selection:\n",
    "        rhkbefund()\n",
    "    if \"Renal Failure Index \" in selection:\n",
    "        rfi()\n",
    "    if \"Mikrozytäre Anämie\" in selection:\n",
    "        ane1()\n",
    "    if \"Rule out ACS\" in selection:\n",
    "        ruleout()\n",
    "    if \"RV Diastole\" in selection:\n",
    "        raai()\n",
    "    if \"Verdacht auf Lungenembolie\" in selection:\n",
    "        embo()\n",
    "\n",
    "    \n",
    "def main():\n",
    "    setup_sidebar()\n",
    "    # Footer mit Versionsnummer und Datum\n",
    "    st.sidebar.markdown(\"---\")\n",
    "    st.sidebar.markdown(\"**Version:** 1.9\")\n",
    "    st.sidebar.markdown(\"**Datum:** 2024-04-13\")\n",
    "    st.sidebar.markdown(\"---\")\n",
    "\n",
    "if __name__ == \"__main__\":\n",
    "    main()"
   ]
  }
 ],
 "metadata": {
  "kernelspec": {
   "display_name": "Python 3 (ipykernel)",
   "language": "python",
   "name": "python3"
  },
  "language_info": {
   "codemirror_mode": {
    "name": "ipython",
    "version": 3
   },
   "file_extension": ".py",
   "mimetype": "text/x-python",
   "name": "python",
   "nbconvert_exporter": "python",
   "pygments_lexer": "ipython3",
   "version": "3.11.3"
  }
 },
 "nbformat": 4,
 "nbformat_minor": 5
}
