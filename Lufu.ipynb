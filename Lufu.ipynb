{
 "cells": [
  {
   "cell_type": "code",
   "execution_count": null,
   "id": "bc21ccc2",
   "metadata": {},
   "outputs": [],
   "source": [
    "import streamlit as st\n",
    "\n",
    "# Hauptteil der App\n",
    "st.title(\"Pneumo-App \")\n",
    "\n",
    "with st.expander(\"Rechtlicher Hinweis\"):\n",
    "    st.write(\"\"\"\n",
    "            **Offizieller rechtlicher Hinweis**\n",
    "\n",
    "            Diese Anwendung beinhaltet klinische Werkzeuge und Inhalte, die für die Nutzung durch medizinisches Fachpersonal vorgesehen sind. Diese Werkzeuge stellen keine professionelle Beratung dar; Ärzte und anderes medizinisches Fachpersonal, die diese Werkzeuge nutzen, sollten ihr eigenes klinisches Urteil in Bezug auf die von ihnen bereitgestellten Informationen ausüben. Nicht-medizinische Nutzer, die diese Werkzeuge verwenden, tun dies auf eigenes Risiko. Personen mit jeglichen medizinischen Bedingungen wird ausdrücklich geraten, professionellen medizinischen Rat einzuholen, bevor sie irgendeine Art von Gesundheitsbehandlung beginnen. Bei medizinischen Anliegen, einschließlich Entscheidungen über Medikamente und andere Behandlungen, sollten nicht-medizinische Nutzer immer ihren Arzt oder einen anderen qualifizierten Gesundheitsdienstleister konsultieren.\n",
    "\n",
    "            Die Inhaltsentwickler haben sorgfältig versucht, die Inhalte gemäß den Standards der professionellen Praxis zu gestalten, die zum Zeitpunkt der Entwicklung herrschten. Dennoch ändern sich Standards und Praktiken in der Medizin, da neue Daten verfügbar werden, und der einzelne medizinische Fachmann sollte eine Vielzahl von Quellen konsultieren.\n",
    "\n",
    "            Die Inhalte dieser Anwendung, wie Texte, Grafiken und Bilder, dienen nur zu Informationszwecken. Es wird keine spezifische Empfehlung oder Befürwortung für bestimmte Tests, Ärzte, Produkte, Verfahren, Meinungen oder andere auf der Plattform erwähnte Informationen ausgesprochen.\n",
    "\n",
    "            Obwohl die Informationen aus Quellen stammen, die als zuverlässig erachtet werden, wird weder die Genauigkeit der Informationen auf dieser Plattform noch von unseren Inhaltsanbietern garantiert.\n",
    "\n",
    "            Wir erteilen keine medizinischen Ratschläge, noch bieten wir medizinische oder diagnostische Dienstleistungen an. Medizinische Informationen ändern sich schnell. Weder wir noch unsere Inhaltsanbieter garantieren, dass die Inhalte alle möglichen Anwendungen, Anweisungen, Vorsichtsmaßnahmen, Wechselwirkungen mit Medikamenten oder Nebenwirkungen, die mit therapeutischen Behandlungen verbunden sein können, abdecken.\n",
    "\n",
    "            Die Nutzung der Informationen und Inhalte, die Sie durch diese Plattform erhalten, erfolgt ausschließlich auf Ihr eigenes Risiko. Weder wir noch unsere Inhaltsanbieter übernehmen irgendeine Haftung oder Verantwortung für Schäden oder Verletzungen (einschließlich Tod) an Ihnen, anderen Personen oder Eigentum, die aus der Nutzung von Produkten, Informationen, Ideen oder Anweisungen resultieren, die in den bereitgestellten Inhalten oder Diensten an Sie vermittelt werden.\n",
    "            \"\"\")\n"
   ]
  },
  {
   "cell_type": "code",
   "execution_count": 14,
   "id": "66b1403a",
   "metadata": {
    "scrolled": true
   },
   "outputs": [],
   "source": [
    "from spirometrie_qualitativ import spirometrie_qualitativ"
   ]
  },
  {
   "cell_type": "code",
   "execution_count": 287,
   "id": "5a545d0c",
   "metadata": {},
   "outputs": [],
   "source": [
    "from tiffeneau_index_berechnung import tiffeneau_index_berechnung1"
   ]
  },
  {
   "cell_type": "code",
   "execution_count": null,
   "id": "d6679a18",
   "metadata": {},
   "outputs": [],
   "source": [
    "from Bodyplethysmographie_Residualvolumen import Bodyplethysmographie_Residualvolumen"
   ]
  },
  {
   "cell_type": "code",
   "execution_count": null,
   "id": "1a768865",
   "metadata": {},
   "outputs": [],
   "source": [
    "from Bodyplethysmographie_Fluss_Druck_Kurve import Bodyplethysmographie_Fluss_Druck_Kurve"
   ]
  },
  {
   "cell_type": "code",
   "execution_count": null,
   "id": "2eb78941",
   "metadata": {},
   "outputs": [],
   "source": [
    "from Funktionstests_Broncholyse import Funktionstests_Broncholyse"
   ]
  },
  {
   "cell_type": "code",
   "execution_count": null,
   "id": "0d62a1a3",
   "metadata": {},
   "outputs": [],
   "source": [
    "from Funktionstests_Provokation import Funktionstests_Provokation"
   ]
  },
  {
   "cell_type": "code",
   "execution_count": null,
   "id": "9c7f0d62",
   "metadata": {},
   "outputs": [],
   "source": [
    "from P0_Atemkraftmessung import P0_Atemkraftmessung"
   ]
  },
  {
   "cell_type": "code",
   "execution_count": 186,
   "id": "8fba9633",
   "metadata": {},
   "outputs": [],
   "source": [
    "from Gasaustausch_Transferfaktor import Gasaustausch_Transferfaktor"
   ]
  },
  {
   "cell_type": "code",
   "execution_count": 97,
   "id": "19f613d2",
   "metadata": {},
   "outputs": [],
   "source": [
    "from Gasaustausch_Blutgasanalyse import Gasaustausch_Blutgasanalyse"
   ]
  },
  {
   "cell_type": "code",
   "execution_count": 271,
   "id": "3177b9a8",
   "metadata": {},
   "outputs": [],
   "source": [
    "from Compliancemessung import Compliancemessung"
   ]
  },
  {
   "cell_type": "code",
   "execution_count": 125,
   "id": "b72b856d",
   "metadata": {},
   "outputs": [],
   "source": [
    "from LTOT import LTOT"
   ]
  },
  {
   "cell_type": "code",
   "execution_count": null,
   "id": "7fbda64a",
   "metadata": {},
   "outputs": [],
   "source": [
    "from EKG import EKG"
   ]
  },
  {
   "cell_type": "code",
   "execution_count": null,
   "id": "8156aa81",
   "metadata": {},
   "outputs": [],
   "source": [
    "from Klinik import Klinik"
   ]
  },
  {
   "cell_type": "code",
   "execution_count": null,
   "id": "27fd2dde",
   "metadata": {},
   "outputs": [],
   "source": [
    "from HFpEF_Score import HFpEF_Score"
   ]
  },
  {
   "cell_type": "code",
   "execution_count": null,
   "id": "2c6c3360",
   "metadata": {},
   "outputs": [],
   "source": [
    "from COPD_Score import COPD_Score"
   ]
  },
  {
   "cell_type": "code",
   "execution_count": null,
   "id": "ce35f852",
   "metadata": {},
   "outputs": [],
   "source": [
    "from Blutkultur import Blutkultur"
   ]
  },
  {
   "cell_type": "code",
   "execution_count": null,
   "id": "301862d1",
   "metadata": {},
   "outputs": [],
   "source": [
    "from chadsvascore import chadsvascore"
   ]
  },
  {
   "cell_type": "code",
   "execution_count": null,
   "id": "6a0f9c38",
   "metadata": {},
   "outputs": [],
   "source": [
    "from erguss1 import erguss1"
   ]
  },
  {
   "cell_type": "code",
   "execution_count": null,
   "id": "0aad4bdb",
   "metadata": {},
   "outputs": [],
   "source": [
    "from rhkbefund import rhkbefund"
   ]
  },
  {
   "cell_type": "code",
   "execution_count": null,
   "id": "75634108",
   "metadata": {},
   "outputs": [],
   "source": [
    "    # Multiselect Box für die Auswahl der Seiten\n",
    "    selected_pages = st.multiselect(\"Wählen Sie eine oder mehrere Seiten aus dem Bereich Lungenfunktion aus:\",\n",
    "                                    [\"Spirometrie qualitativ\", \"Spirometrie quantitativ\", \"Bodyplethysmographie - Residualvolumen\",\n",
    "                                    \"Bodyplethysmographie - Fluss-Druck-Kurve\", \"Funktionstests - Broncholyse\", \"Funktionstests - Provokation\",\n",
    "                                    \"Gasaustausch - Transferfaktor\", \"Gasaustausch - Blutgasanalyse\", \"P0-Atemkraftmessung\",\n",
    "                                    \"Compliancemessung\", \"LTOT - Algorithmus\"], key=\"Lufubox\")\n",
    "\n",
    "    # Logik zur Anzeige der ausgewählten Seiten\n",
    "    if 'Spirometrie Qualitativ' in selected_pages:\n",
    "        spirometrie_qualitativ()\n",
    "    if 'Tiffeneau-Index Berechnung' in selected_pages:\n",
    "        tiffeneau_index_berechnung1()\n",
    "    if \"Bodyplethysmographie - Residualvolumen\" in selected_pages:\n",
    "        Bodyplethysmographie_Residualvolumen()\n",
    "    if \"Bodyplethysmographie - Fluss-Druck-Kurve\" in selected_pages:\n",
    "        Bodyplethysmographie_Fluss_Druck_Kurve()\n",
    "    if \"Funktionstests - Broncholyse\" in selected_pages:\n",
    "        Funktionstests_Broncholyse()\n",
    "    if \"Funktionstests - Provokation\" in selected_pages:\n",
    "        Funktionstests_Provokation()\n",
    "    if \"Gasaustausch - Transferfaktor\" in selected_pages:\n",
    "        Gasaustausch_Transferfaktor()\n",
    "    if \"Gasaustausch - Blutgasanalyse\" in selected_pages:\n",
    "        Gasaustausch_Blutgasanalyse()\n",
    "    if \"P0-Atemkraftmessung\" in selected_pages:\n",
    "        P0_Atemkraftmessung()\n",
    "    if \"Compliancemessung\" in selected_pages:\n",
    "        Compliancemessung()\n",
    "    if \"LTOT - Algorithmus\" in selected_pages:\n",
    "        LTOT()\n",
    "        \n",
    "    selected_pages = st.multiselect(\"Wählen Sie eine oder mehrere Seiten aus dem Bereich Spiroergometrie aus:\",\n",
    "                                    [\"XXX\", \"XXX\"], key=\"Spiroergo\")\n",
    "    \n",
    "    selected_pages = st.multiselect(\"Wählen Sie eine oder mehrere Seiten aus dem Bereich PH Diagnostik aus:\",\n",
    "                                    [\"EKG\", \"Klinik\", \"Thorax-Röntgen\", \"Lungenfunktion und arterielle Gase\",\"der RHK Befund\"], key=\"pulmonalehypertonie\")\n",
    "\n",
    "    if \"EKG\" in selected_pages:\n",
    "        EKG()\n",
    "    if \"Klinik\" in selected_pages:\n",
    "        Klinik()\n",
    "    if \"Thorax Röntgen\" in selected_pages:\n",
    "        Thorax_roentgen()\n",
    "    if \"Lungenfunktion und Blutgase\" in selected_pages:\n",
    "        Lufu_BGA()   \n",
    "    if \"der RHK Befund\" in selected_pages:\n",
    "        rhkbefund()\n",
    "        \n",
    "    selected_pages = st.multiselect(\"Wählen Sie eine oder mehrere Seiten aus dem Bereich COPD aus:\",\n",
    "                                    [\"COPD Score\"], key=\"COPD\")\n",
    "    \n",
    "    if \"COPD Score\" in selected_pages:\n",
    "        COPD_Score()\n",
    "        \n",
    "    selected_pages = st.multiselect(\"Wählen Sie eine oder mehrere Seiten aus dem Bereich Scores & Algorithmen aus:\",\n",
    "                                    [\"HFpEF Score\", \"Blutkultur\",\"CHA₂DS₂-VASc Score\",\"Pleuraerguss\"], key=\"Scores\")\n",
    "    \n",
    "    if \"HFpEF Score\" in selected_pages:\n",
    "        HFpEF_Score()\n",
    "    if \"Blutkultur\" in selected_pages:\n",
    "        Blutkultur()\n",
    "    if \"CHA₂DS₂-VASc Score\" in selected_pages:\n",
    "        chadsvascore()\n",
    "    if \"Pleuraerguss\" in selected_pages:\n",
    "        erguss1()\n"
   ]
  },
  {
   "cell_type": "code",
   "execution_count": 331,
   "id": "5b578ed6",
   "metadata": {},
   "outputs": [
    {
     "name": "stderr",
     "output_type": "stream",
     "text": [
      "2024-04-09 22:49:11.987 `label` got an empty value. This is discouraged for accessibility reasons and may be disallowed in the future by raising an exception. Please provide a non-empty label and hide it with label_visibility if needed.\n",
      "2024-04-09 22:49:12.003 `label` got an empty value. This is discouraged for accessibility reasons and may be disallowed in the future by raising an exception. Please provide a non-empty label and hide it with label_visibility if needed.\n",
      "2024-04-09 22:49:12.005 `label` got an empty value. This is discouraged for accessibility reasons and may be disallowed in the future by raising an exception. Please provide a non-empty label and hide it with label_visibility if needed.\n",
      "2024-04-09 22:49:12.007 `label` got an empty value. This is discouraged for accessibility reasons and may be disallowed in the future by raising an exception. Please provide a non-empty label and hide it with label_visibility if needed.\n",
      "2024-04-09 22:49:12.014 `label` got an empty value. This is discouraged for accessibility reasons and may be disallowed in the future by raising an exception. Please provide a non-empty label and hide it with label_visibility if needed.\n"
     ]
    }
   ],
   "source": [
    "import streamlit as st\n",
    "\n",
    "def setup_sidebar():\n",
    "    st.sidebar.title(\"🌬️ Analysebereiche - Lungenfunktion\")\n",
    "    analyse_bereich_lungenfunktion = st.sidebar.multiselect(\n",
    "        label=\"\",\n",
    "        options=[\n",
    "            \"Spirometrie qualitativ\", \"Spirometrie quantitativ\", \"Bodyplethysmographie - Residualvolumen\",\n",
    "            \"Bodyplethysmographie - Fluss-Druck-Kurve\", \"Funktionstests - Broncholyse\", \"Funktionstests - Provokation\",\n",
    "            \"Gasaustausch - Transferfaktor\", \"Gasaustausch - Blutgasanalyse\", \"P0-Atemkraftmessung\",\n",
    "            \"Compliancemessung\", \"LTOT - Algorithmus\"\n",
    "        ],\n",
    "        key=\"analysebereich_radio\"\n",
    "    )\n",
    "    process_selection(analyse_bereich_lungenfunktion)\n",
    "    \n",
    "    st.sidebar.title(\"🚴🏼‍♂️ Spiroergometrie\")\n",
    "    analyse_bereich_spiroergometrie = st.sidebar.multiselect(\n",
    "        label=\"\",\n",
    "        options=[\"XXX\", \"XXX\"\n",
    "        ],\n",
    "        key=\"analysebereich_radio3\"\n",
    "    )\n",
    "    \n",
    "    process_selection(analyse_bereich_spiroergometrie)\n",
    "\n",
    "    st.sidebar.title(\"🫀 Detect Algorithmus - pulmonale Hypertonie\")\n",
    "    analyse_bereich_rechtsherzkatheter = st.sidebar.multiselect(\n",
    "        label=\"\",\n",
    "        options=[\n",
    "            \"EKG\", \"Klinik\", \"Thorax-Röntgen\", \"Lungenfunktion und arterielle Gase\",\"der RHK Befund\"\n",
    "        ],\n",
    "        key=\"analysebereich_radio2\"\n",
    "    )\n",
    "    \n",
    "    process_selection(analyse_bereich_rechtsherzkatheter)\n",
    "    \n",
    "    st.sidebar.title(\"COPD\")\n",
    "    analyse_bereich_COPD = st.sidebar.multiselect(\n",
    "        label=\"\",\n",
    "        options=[\"COPD Score\"\n",
    "        ],\n",
    "        key=\"analysebereich_radio4\"\n",
    "    )\n",
    "    \n",
    "    process_selection(analyse_bereich_COPD)\n",
    "    \n",
    "    st.sidebar.title(\"Scores und Algorithmen\")\n",
    "    analyse_bereich_scores = st.sidebar.multiselect(\n",
    "        label=\"\",\n",
    "        options=[\"HFpEF Score\", \"Blutkultur\",\"CHA₂DS₂-VASc Score\",\"Pleuraerguss\"\n",
    "        ],\n",
    "        key=\"analysebereich_radio5\"\n",
    "    )\n",
    "    process_selection(analyse_bereich_scores)\n",
    "\n",
    "def process_selection(selection):\n",
    "    # Fügen Sie hier die Logik zum Aufrufen von Funktionen basierend auf der Auswahl hinzu\n",
    "    if \"Spirometrie qualitativ\" in selection:\n",
    "        spirometrie_qualitativ()\n",
    "    if \"Spirometrie quantitativ\" in selection:\n",
    "        tiffeneau_index_berechnung1()\n",
    "    if \"Bodyplethysmographie - Residualvolumen\" in selection:\n",
    "        Bodyplethysmographie_Residualvolumen()\n",
    "    if \"Bodyplethysmographie - Fluss-Druck-Kurve\" in selection:\n",
    "        Bodyplethysmographie_Fluss_Druck_Kurve()\n",
    "    if \"Funktionstests - Broncholyse\" in selection:\n",
    "        Funktionstests_Broncholyse()\n",
    "    if \"Funktionstests - Provokation\" in selection:\n",
    "        Funktionstests_Provokation()\n",
    "    if \"Gasaustausch - Transferfaktor\" in selection:\n",
    "        Gasaustausch_Transferfaktor()\n",
    "    if \"Gasaustausch - Blutgasanalyse\" in selection:\n",
    "        Gasaustausch_Blutgasanalyse()\n",
    "    if \"P0-Atemkraftmessung\" in selection:\n",
    "        P0_Atemkraftmessung()\n",
    "    if \"Compliancemessung\" in selection:\n",
    "        Compliancemessung()\n",
    "    if \"LTOT - Algorithmus\" in selection:\n",
    "        LTOT()\n",
    "    if \"EKG\" in selection:\n",
    "        EKG()\n",
    "    if \"Klinik\" in selection:\n",
    "        Klinik()\n",
    "    if \"Thorax Röntgen\" in selection:\n",
    "        Thorax_roentgen()\n",
    "    if \"Lungenfunktion und Blutgase\" in selection:\n",
    "        Lufu_BGA()\n",
    "    if \"HFpEF Score\" in selection:\n",
    "        HFpEF_Score()\n",
    "    if \"Blutkultur\" in selection:\n",
    "        Blutkultur()\n",
    "    if \"COPD Score\" in selection:\n",
    "        COPD_Score()\n",
    "    if \"CHA₂DS₂-VASc Score\" in selection:\n",
    "        chadsvascore()\n",
    "    if \"Pleuraerguss\" in selection:\n",
    "        erguss1()\n",
    "    if \"der RHK Befund\" in selection:\n",
    "        rhkbefund()\n",
    "\n",
    "        \n",
    "    # Fügen Sie weitere Bedingungen für jede Auswahlmöglichkeit hinzu\n",
    "\n",
    "def main():\n",
    "    setup_sidebar()\n",
    "\n",
    "if __name__ == \"__main__\":\n",
    "    main()\n",
    "\n",
    "        \n",
    "   # Versionsnummer und Datum in der Sidebar\n",
    "    st.sidebar.markdown(\"---\")\n",
    "    st.sidebar.markdown(\"**Version:** 1.9\")\n",
    "    st.sidebar.markdown(\"**Datum:** 2024-04-08\")\n",
    "    st.sidebar.markdown(\"---\")"
   ]
  }
 ],
 "metadata": {
  "kernelspec": {
   "display_name": "Python 3 (ipykernel)",
   "language": "python",
   "name": "python3"
  },
  "language_info": {
   "codemirror_mode": {
    "name": "ipython",
    "version": 3
   },
   "file_extension": ".py",
   "mimetype": "text/x-python",
   "name": "python",
   "nbconvert_exporter": "python",
   "pygments_lexer": "ipython3",
   "version": "3.11.3"
  }
 },
 "nbformat": 4,
 "nbformat_minor": 5
}
