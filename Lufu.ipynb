{
 "cells": [
  {
   "cell_type": "code",
   "execution_count": 322,
   "id": "bc21ccc2",
   "metadata": {},
   "outputs": [
    {
     "data": {
      "text/plain": [
       "DeltaGenerator()"
      ]
     },
     "execution_count": 322,
     "metadata": {},
     "output_type": "execute_result"
    }
   ],
   "source": [
    "import streamlit as st\n",
    "\n",
    "# Hauptteil der App\n",
    "st.title(\"Pneumoapp\")"
   ]
  },
  {
   "cell_type": "code",
   "execution_count": 14,
   "id": "66b1403a",
   "metadata": {
    "scrolled": true
   },
   "outputs": [],
   "source": [
    "from spirometrie_qualitativ import spirometrie_qualitativ"
   ]
  },
  {
   "cell_type": "code",
   "execution_count": 287,
   "id": "5a545d0c",
   "metadata": {},
   "outputs": [],
   "source": [
    "from tiffeneau_index_berechnung import tiffeneau_index_berechnung1"
   ]
  },
  {
   "cell_type": "code",
   "execution_count": null,
   "id": "768619b2",
   "metadata": {},
   "outputs": [],
   "source": [
    "from Bodyplethysmographie_Residualvolumen import Bodyplethysmographie_Residualvolumen"
   ]
  },
  {
   "cell_type": "code",
   "execution_count": null,
   "id": "6256cb8c",
   "metadata": {},
   "outputs": [],
   "source": [
    "from Bodyplethysmographie_Fluss_Druck_Kurve import Bodyplethysmographie_Fluss_Druck_Kurve"
   ]
  },
  {
   "cell_type": "code",
   "execution_count": null,
   "id": "03dddb8d",
   "metadata": {},
   "outputs": [],
   "source": [
    "from Funktionstests_Broncholyse import Funktionstests_Broncholyse"
   ]
  },
  {
   "cell_type": "code",
   "execution_count": null,
   "id": "c4c6dede",
   "metadata": {},
   "outputs": [],
   "source": [
    "from Funktionstests_Provokation import Funktionstests_Provokation"
   ]
  },
  {
   "cell_type": "code",
   "execution_count": null,
   "id": "64b82609",
   "metadata": {},
   "outputs": [],
   "source": [
    "from P0_Atemkraftmessung import P0_Atemkraftmessung"
   ]
  },
  {
   "cell_type": "code",
   "execution_count": 186,
   "id": "647af2d1",
   "metadata": {},
   "outputs": [],
   "source": [
    "from Gasaustausch_Transferfaktor import Gasaustausch_Transferfaktor"
   ]
  },
  {
   "cell_type": "code",
   "execution_count": 97,
   "id": "19f613d2",
   "metadata": {},
   "outputs": [],
   "source": [
    "from Gasaustausch_Blutgasanalyse import Gasaustausch_Blutgasanalyse"
   ]
  },
  {
   "cell_type": "code",
   "execution_count": 271,
   "id": "3177b9a8",
   "metadata": {},
   "outputs": [],
   "source": [
    "from Compliancemessung import Compliancemessung"
   ]
  },
  {
   "cell_type": "code",
   "execution_count": 125,
   "id": "b72b856d",
   "metadata": {},
   "outputs": [],
   "source": [
    "from LTOT import LTOT"
   ]
  },
  {
   "cell_type": "code",
   "execution_count": null,
   "id": "05fa4e7f",
   "metadata": {},
   "outputs": [],
   "source": [
    "from EKG import EKG"
   ]
  },
  {
   "cell_type": "code",
   "execution_count": null,
   "id": "d6a138c4",
   "metadata": {},
   "outputs": [],
   "source": [
    "from Klinik import Klinik"
   ]
  },
  {
   "cell_type": "code",
   "execution_count": 329,
   "id": "f535282a",
   "metadata": {},
   "outputs": [],
   "source": [
    "from HFpEF_Score import HFpEF_Score"
   ]
  },
  {
   "cell_type": "code",
   "execution_count": 328,
   "id": "77dd804b",
   "metadata": {},
   "outputs": [
    {
     "name": "stderr",
     "output_type": "stream",
     "text": [
      "2024-04-07 12:07:23.366 `label` got an empty value. This is discouraged for accessibility reasons and may be disallowed in the future by raising an exception. Please provide a non-empty label and hide it with label_visibility if needed.\n",
      "2024-04-07 12:07:23.369 `label` got an empty value. This is discouraged for accessibility reasons and may be disallowed in the future by raising an exception. Please provide a non-empty label and hide it with label_visibility if needed.\n",
      "2024-04-07 12:07:23.372 `label` got an empty value. This is discouraged for accessibility reasons and may be disallowed in the future by raising an exception. Please provide a non-empty label and hide it with label_visibility if needed.\n",
      "2024-04-07 12:07:23.374 `label` got an empty value. This is discouraged for accessibility reasons and may be disallowed in the future by raising an exception. Please provide a non-empty label and hide it with label_visibility if needed.\n"
     ]
    }
   ],
   "source": [
    "import streamlit as st\n",
    "\n",
    "def setup_sidebar():\n",
    "    st.sidebar.title(\"🌬️ Analysebereiche - Lungenfunktion\")\n",
    "    analyse_bereich_lungenfunktion = st.sidebar.multiselect(\n",
    "        label=\"\",\n",
    "        options=[\n",
    "            \"Spirometrie qualitativ\", \"Spirometrie quantitativ\", \"Bodyplethysmographie - Residualvolumen\",\n",
    "            \"Bodyplethysmographie - Fluss-Druck-Kurve\", \"Funktionstests - Broncholyse\", \"Funktionstests - Provokation\",\n",
    "            \"Gasaustausch - Transferfaktor\", \"Gasaustausch - Blutgasanalyse\", \"P0-Atemkraftmessung\",\n",
    "            \"Compliancemessung\", \"LTOT - Algorithmus\"\n",
    "        ],\n",
    "        key=\"analysebereich_radio\"\n",
    "    )\n",
    "    process_selection(analyse_bereich_lungenfunktion)\n",
    "\n",
    "    st.sidebar.title(\"🫀 Rechtsherzkatheter in Arbeit\")\n",
    "    analyse_bereich_rechtsherzkatheter = st.sidebar.multiselect(\n",
    "        label=\"\",\n",
    "        options=[\n",
    "            \"EKG\", \"Klinik\", \"Thorax-Röntgen\", \"Lungenfunktion und arterielle Gase\"\n",
    "        ],\n",
    "        key=\"analysebereich_radio2\"\n",
    "    )\n",
    "    process_selection(analyse_bereich_rechtsherzkatheter)\n",
    "    \n",
    "    st.sidebar.title(\"🚴🏼‍♂️ Spiroergometrie in Arbeit\")\n",
    "    analyse_bereich_spiroergometrie = st.sidebar.multiselect(\n",
    "        label=\"\",\n",
    "        options=[\"XXX\", \"XXX\"\n",
    "        ],\n",
    "        key=\"analysebereich_radio3\"\n",
    "    )\n",
    "    process_selection(analyse_bereich_spiroergometrie)\n",
    "    \n",
    "    st.sidebar.title(\"Scores und Algorithmen\")\n",
    "    analyse_bereich_scores = st.sidebar.multiselect(\n",
    "        label=\"\",\n",
    "        options=[\"HFpEF Score\", \"XXX\"\n",
    "        ],\n",
    "        key=\"analysebereich_radio4\"\n",
    "    )\n",
    "    process_selection(analyse_bereich_scores)\n",
    "\n",
    "def process_selection(selection):\n",
    "    # Fügen Sie hier die Logik zum Aufrufen von Funktionen basierend auf der Auswahl hinzu\n",
    "    if \"Spirometrie qualitativ\" in selection:\n",
    "        spirometrie_qualitativ()\n",
    "    if \"Spirometrie quantitativ\" in selection:\n",
    "        tiffeneau_index_berechnung1()\n",
    "    if \"Bodyplethysmographie - Residualvolumen\" in selection:\n",
    "        Bodyplethysmographie_Residualvolumen()\n",
    "    if \"Bodyplethysmographie - Fluss-Druck-Kurve\" in selection:\n",
    "        Bodyplethysmographie_Fluss_Druck_Kurve()\n",
    "    if \"Funktionstests - Broncholyse\" in selection:\n",
    "        Funktionstests_Broncholyse()\n",
    "    if \"Funktionstests - Provokation\" in selection:\n",
    "        Funktionstests_Provokation()\n",
    "    if \"Gasaustausch - Transferfaktor\" in selection:\n",
    "        Gasaustausch_Transferfaktor()\n",
    "    if \"Gasaustausch - Blutgasanalyse\" in selection:\n",
    "        Gasaustausch_Blutgasanalyse()\n",
    "    if \"P0-Atemkraftmessung\" in selection:\n",
    "        P0_Atemkraftmessung()\n",
    "    if \"Compliancemessung\" in selection:\n",
    "        Compliancemessung()\n",
    "    if \"LTOT - Algorithmus\" in selection:\n",
    "        LTOT()\n",
    "    if \"EKG\" in selection:\n",
    "        EKG()\n",
    "    if \"Klinik\" in selection:\n",
    "        Klinik()\n",
    "    if \"Thorax Röntgen\" in selection:\n",
    "        Thorax_roentgen()\n",
    "    if \"Lungenfunktion und Blutgase\" in selection:\n",
    "        Lufu_BGA()\n",
    "    if \"HFpEF Score\" in selection:\n",
    "        HFpEF_Score()\n",
    "        \n",
    "    # Fügen Sie weitere Bedingungen für jede Auswahlmöglichkeit hinzu\n",
    "\n",
    "def main():\n",
    "    setup_sidebar()\n",
    "\n",
    "if __name__ == \"__main__\":\n",
    "    main()\n",
    "\n",
    "        \n",
    "   # Versionsnummer und Datum in der Sidebar\n",
    "    st.sidebar.markdown(\"---\")\n",
    "    st.sidebar.markdown(\"**Version:** 1.7\")\n",
    "    st.sidebar.markdown(\"**Datum:** 2024-04-07\")\n",
    "    st.sidebar.markdown(\"---\")\n"
   ]
  },
  {
   "cell_type": "code",
   "execution_count": null,
   "id": "6b91a11b",
   "metadata": {},
   "outputs": [],
   "source": []
  }
 ],
 "metadata": {
  "kernelspec": {
   "display_name": "Python 3 (ipykernel)",
   "language": "python",
   "name": "python3"
  },
  "language_info": {
   "codemirror_mode": {
    "name": "ipython",
    "version": 3
   },
   "file_extension": ".py",
   "mimetype": "text/x-python",
   "name": "python",
   "nbconvert_exporter": "python",
   "pygments_lexer": "ipython3",
   "version": "3.11.3"
  }
 },
 "nbformat": 4,
 "nbformat_minor": 5
}
