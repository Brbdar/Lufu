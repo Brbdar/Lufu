{
 "cells": [
  {
   "cell_type": "code",
   "execution_count": 278,
   "id": "bc21ccc2",
   "metadata": {},
   "outputs": [
    {
     "data": {
      "text/plain": [
       "DeltaGenerator()"
      ]
     },
     "execution_count": 278,
     "metadata": {},
     "output_type": "execute_result"
    }
   ],
   "source": [
    "import streamlit as st\n",
    "\n",
    "# Hauptteil der App\n",
    "st.title(\"Analysebereich Lungenfunktion\")"
   ]
  },
  {
   "cell_type": "code",
   "execution_count": 14,
   "id": "66b1403a",
   "metadata": {
    "scrolled": true
   },
   "outputs": [],
   "source": [
    "from spirometrie_qualitativ import spirometrie_qualitativ"
   ]
  },
  {
   "cell_type": "code",
   "execution_count": 287,
   "id": "5a545d0c",
   "metadata": {},
   "outputs": [],
   "source": [
    "from tiffeneau_index_berechnung import tiffeneau_index_berechnung1"
   ]
  },
  {
   "cell_type": "code",
   "execution_count": null,
   "id": "d5a88924",
   "metadata": {},
   "outputs": [],
   "source": [
    "from Bodyplethysmographie_Residualvolumen import Bodyplethysmographie_Residualvolumen"
   ]
  },
  {
   "cell_type": "code",
   "execution_count": null,
   "id": "be674405",
   "metadata": {},
   "outputs": [],
   "source": [
    "from Bodyplethysmographie_Fluss_Druck_Kurve import Bodyplethysmographie_Fluss_Druck_Kurve"
   ]
  },
  {
   "cell_type": "code",
   "execution_count": null,
   "id": "5ea7d5a2",
   "metadata": {},
   "outputs": [],
   "source": [
    "from Funktionstests_Broncholyse import Funktionstests_Broncholyse"
   ]
  },
  {
   "cell_type": "code",
   "execution_count": null,
   "id": "eaf7cada",
   "metadata": {},
   "outputs": [],
   "source": [
    "from Funktionstests_Provokation import Funktionstests_Provokation"
   ]
  },
  {
   "cell_type": "code",
   "execution_count": null,
   "id": "8ab345a4",
   "metadata": {},
   "outputs": [],
   "source": [
    "from P0_Atemkraftmessung import P0_Atemkraftmessung"
   ]
  },
  {
   "cell_type": "code",
   "execution_count": 186,
   "id": "3f16e56b",
   "metadata": {},
   "outputs": [],
   "source": [
    "from Gasaustausch_Transferfaktor import Gasaustausch_Transferfaktor"
   ]
  },
  {
   "cell_type": "code",
   "execution_count": 97,
   "id": "19f613d2",
   "metadata": {},
   "outputs": [],
   "source": [
    "from Gasaustausch_Blutgasanalyse import Gasaustausch_Blutgasanalyse"
   ]
  },
  {
   "cell_type": "code",
   "execution_count": 271,
   "id": "3177b9a8",
   "metadata": {},
   "outputs": [],
   "source": [
    "from Compliancemessung import Compliancemessung"
   ]
  },
  {
   "cell_type": "code",
   "execution_count": 125,
   "id": "b72b856d",
   "metadata": {},
   "outputs": [],
   "source": [
    "from LTOT import LTOT"
   ]
  },
  {
   "cell_type": "code",
   "execution_count": 276,
   "id": "77dd804b",
   "metadata": {},
   "outputs": [
    {
     "name": "stderr",
     "output_type": "stream",
     "text": [
      "2024-04-04 20:31:32.554 `label` got an empty value. This is discouraged for accessibility reasons and may be disallowed in the future by raising an exception. Please provide a non-empty label and hide it with label_visibility if needed.\n"
     ]
    },
    {
     "ename": "NameError",
     "evalue": "name 'spirometrie_qualitativ' is not defined",
     "output_type": "error",
     "traceback": [
      "\u001b[0;31m---------------------------------------------------------------------------\u001b[0m",
      "\u001b[0;31mNameError\u001b[0m                                 Traceback (most recent call last)",
      "Cell \u001b[0;32mIn[276], line 50\u001b[0m\n\u001b[1;32m     47\u001b[0m         LTOT()\n\u001b[1;32m     49\u001b[0m \u001b[38;5;28;01mif\u001b[39;00m \u001b[38;5;18m__name__\u001b[39m \u001b[38;5;241m==\u001b[39m \u001b[38;5;124m\"\u001b[39m\u001b[38;5;124m__main__\u001b[39m\u001b[38;5;124m\"\u001b[39m:\n\u001b[0;32m---> 50\u001b[0m     main()\n\u001b[1;32m     52\u001b[0m \u001b[38;5;28;01mdef\u001b[39;00m \u001b[38;5;21mmain\u001b[39m():\n\u001b[1;32m     53\u001b[0m     st\u001b[38;5;241m.\u001b[39msidebar\u001b[38;5;241m.\u001b[39mtitle(\u001b[38;5;124m\"\u001b[39m\u001b[38;5;124m📊 Analysebereiche - Spiroergometrie\u001b[39m\u001b[38;5;124m\"\u001b[39m)\n",
      "Cell \u001b[0;32mIn[276], line 27\u001b[0m, in \u001b[0;36mmain\u001b[0;34m()\u001b[0m\n\u001b[1;32m     18\u001b[0m analyse_bereich \u001b[38;5;241m=\u001b[39m st\u001b[38;5;241m.\u001b[39msidebar\u001b[38;5;241m.\u001b[39mradio(\n\u001b[1;32m     19\u001b[0m     \u001b[38;5;124m\"\u001b[39m\u001b[38;5;124m\"\u001b[39m,\n\u001b[1;32m     20\u001b[0m     (\u001b[38;5;124m\"\u001b[39m\u001b[38;5;124mSpirometrie qualitativ\u001b[39m\u001b[38;5;124m\"\u001b[39m, \u001b[38;5;124m\"\u001b[39m\u001b[38;5;124mSpirometrie quantitativ\u001b[39m\u001b[38;5;124m\"\u001b[39m, \u001b[38;5;124m\"\u001b[39m\u001b[38;5;124mBodyplethysmographie - Residualvolumen\u001b[39m\u001b[38;5;124m\"\u001b[39m, \n\u001b[0;32m   (...)\u001b[0m\n\u001b[1;32m     23\u001b[0m     key\u001b[38;5;241m=\u001b[39m\u001b[38;5;124m\"\u001b[39m\u001b[38;5;124manalysebereich_radio\u001b[39m\u001b[38;5;124m\"\u001b[39m\n\u001b[1;32m     24\u001b[0m )\n\u001b[1;32m     26\u001b[0m \u001b[38;5;28;01mif\u001b[39;00m analyse_bereich \u001b[38;5;241m==\u001b[39m \u001b[38;5;124m\"\u001b[39m\u001b[38;5;124mSpirometrie qualitativ\u001b[39m\u001b[38;5;124m\"\u001b[39m:\n\u001b[0;32m---> 27\u001b[0m     spirometrie_qualitativ()\n\u001b[1;32m     28\u001b[0m \u001b[38;5;28;01melif\u001b[39;00m analyse_bereich \u001b[38;5;241m==\u001b[39m \u001b[38;5;124m\"\u001b[39m\u001b[38;5;124mSpirometrie quantitativ\u001b[39m\u001b[38;5;124m\"\u001b[39m:\n\u001b[1;32m     29\u001b[0m     tiffeneau_index_berechnung\u001b[38;5;241m.\u001b[39mpy()\n",
      "\u001b[0;31mNameError\u001b[0m: name 'spirometrie_qualitativ' is not defined"
     ]
    }
   ],
   "source": [
    "def main():\n",
    "    # Benutzerdefiniertes CSS anwenden\n",
    "    custom_css = \"\"\"\n",
    "    <style>\n",
    "        /* Anpassungen für die Sidebar */\n",
    "        .css-1d391kg { /* Ändert die Farbe des Titels */\n",
    "            color: #333;\n",
    "        }\n",
    "        .stRadio > div{ /* Anpassung der Radiobuttons */\n",
    "            background-color: #f0f2f6;\n",
    "            border-radius: 20px;\n",
    "            padding: 5px;\n",
    "        }\n",
    "    </style>\n",
    "    \"\"\"\n",
    "    \n",
    "    st.sidebar.title(\"🌬️ Analysebereiche - Lungenfunktion\")\n",
    "    analyse_bereich = st.sidebar.radio(\n",
    "        \"\",\n",
    "        (\"Spirometrie qualitativ\", \"Spirometrie quantitativ\", \"Bodyplethysmographie - Residualvolumen\", \n",
    "         \"Bodyplethysmographie - Fluss-Druck-Kurve\", \"Funktionstests - Broncholyse\", \"Funktionstests - Provokation\", \n",
    "         \"Gasaustausch - Transferfaktor\", \"Gasaustausch - Blutgasanalyse\",\"P0-Atemkraftmessung\",\"Compliancemessung\",\"LTOT - Algorithmus\"),\n",
    "        key=\"analysebereich_radio\"\n",
    "    )\n",
    "\n",
    "    if analyse_bereich == \"Spirometrie qualitativ\":\n",
    "        spirometrie_qualitativ()\n",
    "    elif analyse_bereich == \"Spirometrie quantitativ\":\n",
    "        tiffeneau_index_berechnung1()\n",
    "    elif analyse_bereich == \"Bodyplethysmographie - Residualvolumen\":\n",
    "        Bodyplethysmographie_Residualvolumen()\n",
    "    elif analyse_bereich == \"Bodyplethysmographie - Fluss-Druck-Kurve\":\n",
    "        Bodyplethysmographie_Fluss_Druck_Kurve()\n",
    "    elif analyse_bereich == \"Funktionstests - Broncholyse\":\n",
    "        Funktionstests_Broncholyse()\n",
    "    elif analyse_bereich == \"Funktionstests - Provokation\":\n",
    "        Funktionstests_Provokation()\n",
    "    elif analyse_bereich == \"Gasaustausch - Transferfaktor\":\n",
    "        Gasaustausch_Transferfaktor()\n",
    "    elif analyse_bereich == \"Gasaustausch - Blutgasanalyse\":\n",
    "        Gasaustausch_Blutgasanalyse()\n",
    "    elif analyse_bereich == \"P0-Atemkraftmessung\":\n",
    "        P0_Atemkraftmessung()    \n",
    "    elif analyse_bereich == \"Compliancemessung\":\n",
    "        Compliancemessung()\n",
    "    elif analyse_bereich == \"LTOT - Algorithmus\":\n",
    "        LTOT()\n",
    "\n",
    "if __name__ == \"__main__\":\n",
    "    main()\n",
    "    \n",
    "def main():\n",
    "    st.sidebar.title(\"📊 Analysebereiche - Spiroergometrie\")\n",
    "    analyse_bereich = st.sidebar.radio(\n",
    "        \"\",\n",
    "        (\"noch in Arbeit\",\"xxx\"),\n",
    "        key=\"analysebereich_Spiroergometrie\"\n",
    "    )\n",
    "\n",
    "    if analyse_bereich == \"Spirometrie qualitativ\":\n",
    "        spirometrie_qualitativ()\n",
    "    elif analyse_bereich == \"Spirometrie quantitativ\":\n",
    "        tiffeneau_index_berechnung()\n",
    "\n",
    "if __name__ == \"__main__\":\n",
    "    main()\n",
    "    \n",
    "def main():\n",
    "    st.sidebar.title(\"🩺 Analysebereiche - Rechtsherzkatheter\")\n",
    "    analyse_bereich = st.sidebar.radio(\n",
    "        \"\",\n",
    "        (\"noch in Arbeit\", \"xxx\"),\n",
    "        key=\"analysebereich_Rechtsherzkatheter\"\n",
    "    )\n",
    "\n",
    "    if analyse_bereich == \"Spirometrie qualitativ\":\n",
    "        spirometrie_qualitativ()\n",
    "    elif analyse_bereich == \"Spirometrie quantitativ\":\n",
    "        tiffeneau_index_berechnung()\n",
    "\n",
    "\n",
    "if __name__ == \"__main__\":\n",
    "    main()\n",
    "    \n",
    "   # Versionsnummer und Datum in der Sidebar\n",
    "    st.sidebar.markdown(\"---\")\n",
    "    st.sidebar.markdown(\"**Version:** 1.6\")\n",
    "    st.sidebar.markdown(\"**Datum:** 2024-03-31\")"
   ]
  }
 ],
 "metadata": {
  "kernelspec": {
   "display_name": "Python 3 (ipykernel)",
   "language": "python",
   "name": "python3"
  },
  "language_info": {
   "codemirror_mode": {
    "name": "ipython",
    "version": 3
   },
   "file_extension": ".py",
   "mimetype": "text/x-python",
   "name": "python",
   "nbconvert_exporter": "python",
   "pygments_lexer": "ipython3",
   "version": "3.11.3"
  }
 },
 "nbformat": 4,
 "nbformat_minor": 5
}
