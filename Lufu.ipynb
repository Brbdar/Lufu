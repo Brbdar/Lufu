{
 "cells": [
  {
   "cell_type": "code",
   "execution_count": null,
   "id": "bc21ccc2",
   "metadata": {},
   "outputs": [],
   "source": [
    "import streamlit as st\n",
    "\n",
    "# Hauptteil der App\n",
    "st.title(\"Pneumo-App \")"
   ]
  },
  {
   "cell_type": "code",
   "execution_count": 14,
   "id": "66b1403a",
   "metadata": {
    "scrolled": true
   },
   "outputs": [],
   "source": [
    "from spirometrie_qualitativ import spirometrie_qualitativ"
   ]
  },
  {
   "cell_type": "code",
   "execution_count": 287,
   "id": "5a545d0c",
   "metadata": {},
   "outputs": [],
   "source": [
    "from tiffeneau_index_berechnung import tiffeneau_index_berechnung1"
   ]
  },
  {
   "cell_type": "code",
   "execution_count": null,
   "id": "74aa4f92",
   "metadata": {},
   "outputs": [],
   "source": [
    "from Bodyplethysmographie_Residualvolumen import Bodyplethysmographie_Residualvolumen"
   ]
  },
  {
   "cell_type": "code",
   "execution_count": null,
   "id": "8b21e480",
   "metadata": {},
   "outputs": [],
   "source": [
    "from Bodyplethysmographie_Fluss_Druck_Kurve import Bodyplethysmographie_Fluss_Druck_Kurve"
   ]
  },
  {
   "cell_type": "code",
   "execution_count": null,
   "id": "2714c38a",
   "metadata": {},
   "outputs": [],
   "source": [
    "from Funktionstests_Broncholyse import Funktionstests_Broncholyse"
   ]
  },
  {
   "cell_type": "code",
   "execution_count": null,
   "id": "805939fd",
   "metadata": {},
   "outputs": [],
   "source": [
    "from Funktionstests_Provokation import Funktionstests_Provokation"
   ]
  },
  {
   "cell_type": "code",
   "execution_count": null,
   "id": "c4366e86",
   "metadata": {},
   "outputs": [],
   "source": [
    "from P0_Atemkraftmessung import P0_Atemkraftmessung"
   ]
  },
  {
   "cell_type": "code",
   "execution_count": 186,
   "id": "3e845fa7",
   "metadata": {},
   "outputs": [],
   "source": [
    "from Gasaustausch_Transferfaktor import Gasaustausch_Transferfaktor"
   ]
  },
  {
   "cell_type": "code",
   "execution_count": 97,
   "id": "19f613d2",
   "metadata": {},
   "outputs": [],
   "source": [
    "from Gasaustausch_Blutgasanalyse import Gasaustausch_Blutgasanalyse"
   ]
  },
  {
   "cell_type": "code",
   "execution_count": 271,
   "id": "3177b9a8",
   "metadata": {},
   "outputs": [],
   "source": [
    "from Compliancemessung import Compliancemessung"
   ]
  },
  {
   "cell_type": "code",
   "execution_count": 125,
   "id": "b72b856d",
   "metadata": {},
   "outputs": [],
   "source": [
    "from LTOT import LTOT"
   ]
  },
  {
   "cell_type": "code",
   "execution_count": null,
   "id": "fed14e07",
   "metadata": {},
   "outputs": [],
   "source": [
    "from EKG import EKG"
   ]
  },
  {
   "cell_type": "code",
   "execution_count": null,
   "id": "43146a7e",
   "metadata": {},
   "outputs": [],
   "source": [
    "from Klinik import Klinik"
   ]
  },
  {
   "cell_type": "code",
   "execution_count": null,
   "id": "fd48622f",
   "metadata": {},
   "outputs": [],
   "source": [
    "from HFpEF_Score import HFpEF_Score"
   ]
  },
  {
   "cell_type": "code",
   "execution_count": null,
   "id": "7b1e89a7",
   "metadata": {},
   "outputs": [],
   "source": [
    "from COPD_Score import COPD_Score"
   ]
  },
  {
   "cell_type": "code",
   "execution_count": null,
   "id": "cb6a0829",
   "metadata": {},
   "outputs": [],
   "source": [
    "from Blutkultur import Blutkultur"
   ]
  },
  {
   "cell_type": "code",
   "execution_count": null,
   "id": "77dd804b",
   "metadata": {},
   "outputs": [],
   "source": [
    "import streamlit as st\n",
    "\n",
    "def setup_sidebar():\n",
    "    st.sidebar.title(\"🌬️ Analysebereiche - Lungenfunktion\")\n",
    "    analyse_bereich_lungenfunktion = st.sidebar.multiselect(\n",
    "        label=\"\",\n",
    "        options=[\n",
    "            \"Spirometrie qualitativ\", \"Spirometrie quantitativ\", \"Bodyplethysmographie - Residualvolumen\",\n",
    "            \"Bodyplethysmographie - Fluss-Druck-Kurve\", \"Funktionstests - Broncholyse\", \"Funktionstests - Provokation\",\n",
    "            \"Gasaustausch - Transferfaktor\", \"Gasaustausch - Blutgasanalyse\", \"P0-Atemkraftmessung\",\n",
    "            \"Compliancemessung\", \"LTOT - Algorithmus\"\n",
    "        ],\n",
    "        key=\"analysebereich_radio\"\n",
    "    )\n",
    "    process_selection(analyse_bereich_lungenfunktion)\n",
    "    \n",
    "    st.sidebar.title(\"🚴🏼‍♂️ Spiroergometrie\")\n",
    "    analyse_bereich_spiroergometrie = st.sidebar.multiselect(\n",
    "        label=\"\",\n",
    "        options=[\"XXX\", \"XXX\"\n",
    "        ],\n",
    "        key=\"analysebereich_radio3\"\n",
    "    )\n",
    "    \n",
    "    process_selection(analyse_bereich_spiroergometrie)\n",
    "\n",
    "    st.sidebar.title(\"🫀 Detect Algorithmus - pulmonale Hypertonie\")\n",
    "    analyse_bereich_rechtsherzkatheter = st.sidebar.multiselect(\n",
    "        label=\"\",\n",
    "        options=[\n",
    "            \"EKG\", \"Klinik\", \"Thorax-Röntgen\", \"Lungenfunktion und arterielle Gase\"\n",
    "        ],\n",
    "        key=\"analysebereich_radio2\"\n",
    "    )\n",
    "    \n",
    "    process_selection(analyse_bereich_rechtsherzkatheter)\n",
    "    \n",
    "    st.sidebar.title(\"COPD\")\n",
    "    analyse_bereich_COPD = st.sidebar.multiselect(\n",
    "        label=\"\",\n",
    "        options=[\"COPD Score\"\n",
    "        ],\n",
    "        key=\"analysebereich_radio4\"\n",
    "    )\n",
    "    \n",
    "    process_selection(analyse_bereich_COPD)\n",
    "    \n",
    "    st.sidebar.title(\"Scores und Algorithmen\")\n",
    "    analyse_bereich_scores = st.sidebar.multiselect(\n",
    "        label=\"\",\n",
    "        options=[\"HFpEF Score\", \"Blutkultur\"\n",
    "        ],\n",
    "        key=\"analysebereich_radio5\"\n",
    "    )\n",
    "    process_selection(analyse_bereich_scores)\n",
    "\n",
    "def process_selection(selection):\n",
    "    # Fügen Sie hier die Logik zum Aufrufen von Funktionen basierend auf der Auswahl hinzu\n",
    "    if \"Spirometrie qualitativ\" in selection:\n",
    "        spirometrie_qualitativ()\n",
    "    if \"Spirometrie quantitativ\" in selection:\n",
    "        tiffeneau_index_berechnung1()\n",
    "    if \"Bodyplethysmographie - Residualvolumen\" in selection:\n",
    "        Bodyplethysmographie_Residualvolumen()\n",
    "    if \"Bodyplethysmographie - Fluss-Druck-Kurve\" in selection:\n",
    "        Bodyplethysmographie_Fluss_Druck_Kurve()\n",
    "    if \"Funktionstests - Broncholyse\" in selection:\n",
    "        Funktionstests_Broncholyse()\n",
    "    if \"Funktionstests - Provokation\" in selection:\n",
    "        Funktionstests_Provokation()\n",
    "    if \"Gasaustausch - Transferfaktor\" in selection:\n",
    "        Gasaustausch_Transferfaktor()\n",
    "    if \"Gasaustausch - Blutgasanalyse\" in selection:\n",
    "        Gasaustausch_Blutgasanalyse()\n",
    "    if \"P0-Atemkraftmessung\" in selection:\n",
    "        P0_Atemkraftmessung()\n",
    "    if \"Compliancemessung\" in selection:\n",
    "        Compliancemessung()\n",
    "    if \"LTOT - Algorithmus\" in selection:\n",
    "        LTOT()\n",
    "    if \"EKG\" in selection:\n",
    "        EKG()\n",
    "    if \"Klinik\" in selection:\n",
    "        Klinik()\n",
    "    if \"Thorax Röntgen\" in selection:\n",
    "        Thorax_roentgen()\n",
    "    if \"Lungenfunktion und Blutgase\" in selection:\n",
    "        Lufu_BGA()\n",
    "    if \"HFpEF Score\" in selection:\n",
    "        HFpEF_Score()\n",
    "    if \"Blutkultur\" in selection:\n",
    "        Blutkultur()\n",
    "    if \"COPD Score\" in selection:\n",
    "        COPD_Score()\n",
    "        \n",
    "    # Fügen Sie weitere Bedingungen für jede Auswahlmöglichkeit hinzu\n",
    "\n",
    "def main():\n",
    "    setup_sidebar()\n",
    "\n",
    "if __name__ == \"__main__\":\n",
    "    main()\n",
    "\n",
    "        \n",
    "   # Versionsnummer und Datum in der Sidebar\n",
    "    st.sidebar.markdown(\"---\")\n",
    "    st.sidebar.markdown(\"**Version:** 1.8\")\n",
    "    st.sidebar.markdown(\"**Datum:** 2024-04-07\")\n",
    "    st.sidebar.markdown(\"---\")\n"
   ]
  },
  {
   "cell_type": "code",
   "execution_count": null,
   "id": "837087c0",
   "metadata": {},
   "outputs": [],
   "source": []
  }
 ],
 "metadata": {
  "kernelspec": {
   "display_name": "Python 3 (ipykernel)",
   "language": "python",
   "name": "python3"
  },
  "language_info": {
   "codemirror_mode": {
    "name": "ipython",
    "version": 3
   },
   "file_extension": ".py",
   "mimetype": "text/x-python",
   "name": "python",
   "nbconvert_exporter": "python",
   "pygments_lexer": "ipython3",
   "version": "3.11.3"
  }
 },
 "nbformat": 4,
 "nbformat_minor": 5
}
