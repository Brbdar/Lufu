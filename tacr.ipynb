{
 "cells": [
  {
   "cell_type": "code",
   "execution_count": 46,
   "id": "852098cb",
   "metadata": {},
   "outputs": [
    {
     "ename": "SyntaxError",
     "evalue": "invalid syntax. Perhaps you forgot a comma? (2113162039.py, line 40)",
     "output_type": "error",
     "traceback": [
      "\u001b[0;36m  Cell \u001b[0;32mIn[46], line 40\u001b[0;36m\u001b[0m\n\u001b[0;31m    color='yellow', alpha=0.1,fra label='Sub-Therapeutic Range')\u001b[0m\n\u001b[0m                              ^\u001b[0m\n\u001b[0;31mSyntaxError\u001b[0m\u001b[0;31m:\u001b[0m invalid syntax. Perhaps you forgot a comma?\n"
     ]
    }
   ],
   "source": [
    "import numpy as np\n",
    "import matplotlib.pyplot as plt\n",
    "import streamlit as st\n",
    "\n",
    "from scipy.interpolate import interp1d\n",
    "from scipy.integrate import simps\n",
    "\n",
    "def tacr():\n",
    "    def calculate_auc_using_formula(coefficients, concentrations):\n",
    "        \"\"\"Calculate AUC using a specific formula based on drug type.\"\"\"\n",
    "        return sum(coef * conc for coef, conc in zip(coefficients, concentrations))\n",
    "\n",
    "    def plot_pharmacokinetic_curve(times, concentrations, title):\n",
    "        \"\"\"Generate and display a matplotlib plot with only the given data points.\"\"\"\n",
    "        plt.figure(figsize=(10, 8))\n",
    "        plt.scatter(times, concentrations, color='blue', s=100, label='Measured Concentrations')\n",
    "        for i, txt in enumerate(concentrations):\n",
    "            plt.annotate(f\"{txt} ng/mL\", (times[i], concentrations[i]), textcoords=\"offset points\", xytext=(0,10), ha='center')\n",
    "        plt.xlabel('Time (minutes)', fontsize=14)\n",
    "        plt.ylabel('Concentration (ng/mL)', fontsize=14)\n",
    "        plt.title(title, fontsize=16)\n",
    "        plt.grid(True)\n",
    "        plt.ylim(bottom=0)\n",
    "        plt.legend()\n",
    "        st.pyplot(plt)\n",
    "\n",
    "\n",
    "    def plot_pharmacokinetic_curve(extended_times, profile, times, concentrations, therapeutic_range, toxic_range, title):\n",
    "        \"\"\"Generate and display a matplotlib plot, highlighting different pharmacokinetic phases and therapeutic ranges.\"\"\"\n",
    "        plt.figure(figsize=(10, 8))\n",
    "        plt.plot(extended_times, profile, color='grey', linewidth=3)\n",
    "        plt.fill_between(extended_times, 0, profile, \n",
    "                         where=(profile >= therapeutic_range[0]) & (profile <= therapeutic_range[1]),\n",
    "                         color='blue', alpha=0.1, label='Therapeutic Range')\n",
    "        plt.fill_between(extended_times, 0, profile, \n",
    "                         where=profile >= toxic_range,\n",
    "                         color='red', alpha=0.3, label='Toxic Range')\n",
    "        plt.fill_between(extended_times, 0, profile, \n",
    "                         where=profile <= therapeutic_range[0],\n",
    "                         color='yellow', alpha=0.1,fra label='Sub-Therapeutic Range')\n",
    "        plt.scatter(times, concentrations, color='black', s=100, zorder=5)\n",
    "        plt.xlabel('Time (minutes)', fontsize=14)\n",
    "        plt.ylabel('Concentration (ng/mL)', fontsize=14)\n",
    "        plt.title(title, fontsize=16)\n",
    "        plt.grid(True, which='both', linestyle='--', linewidth=0.5)\n",
    "        plt.ylim(bottom=0)\n",
    "        plt.legend()\n",
    "        st.pyplot(plt)\n",
    "\n",
    "    def setup_streamlit_ui():\n",
    "        st.title('Pharmacokinetic Analysis for Tacrolimus and Cyclosporine A')\n",
    "\n",
    "        drug_type = st.radio(\"Select the drug type:\", ('Tacrolimus (MPA-AUC)', 'Cyclosporine A (CSA-AUC)'))\n",
    "        formula_descriptions = {\n",
    "            'Tacrolimus (MPA-AUC)': ([1.86, 6.7, 1.19, 4.8], [0, 40, 120]),\n",
    "            'Cyclosporine A (CSA-AUC)': ([11.8, 3.71, 1.33, 3.9], [0, 75, 240])\n",
    "        }\n",
    "        coefficients, times = formula_descriptions[drug_type]\n",
    "        concentrations = [st.number_input(f\"Concentration at {time} minutes (ng/mL)\", value=0.0) for time in times]\n",
    "\n",
    "        if st.button(\"Calculate AUC and Show Plot\"):\n",
    "            mpa_auc = calculate_auc_using_formula(coefficients, concentrations)\n",
    "            plot_pharmacokinetic_curve(times, concentrations, f'Pharmacokinetic Profile for {drug_type}')\n",
    "            st.write(f'{drug_type} AUC using formula: {mpa_auc:.2f}')\n",
    "\n",
    "    setup_streamlit_ui()\n",
    "\n",
    "if __name__ == \"__main__\":\n",
    "    tacr()"
   ]
  }
 ],
 "metadata": {
  "kernelspec": {
   "display_name": "Python 3 (ipykernel)",
   "language": "python",
   "name": "python3"
  },
  "language_info": {
   "codemirror_mode": {
    "name": "ipython",
    "version": 3
   },
   "file_extension": ".py",
   "mimetype": "text/x-python",
   "name": "python",
   "nbconvert_exporter": "python",
   "pygments_lexer": "ipython3",
   "version": "3.11.7"
  }
 },
 "nbformat": 4,
 "nbformat_minor": 5
}
