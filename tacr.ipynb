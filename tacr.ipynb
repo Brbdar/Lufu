{
 "cells": [
  {
   "cell_type": "code",
   "execution_count": 6,
   "id": "852098cb",
   "metadata": {
    "scrolled": false
   },
   "outputs": [],
   "source": [
    "import numpy as np\n",
    "import matplotlib.pyplot as plt\n",
    "import altair as alt\n",
    "import streamlit as st\n",
    "\n",
    "from scipy.interpolate import interp1d\n",
    "from scipy.integrate import simps\n",
    "\n",
    "def tacr():\n",
    "    def create_pharmacokinetic_profile(times, concentrations):\n",
    "        \"\"\"Generate pharmacokinetic profile.\"\"\"\n",
    "        interpolation = interp1d(times, concentrations, kind='linear', fill_value=\"extrapolate\")\n",
    "        extended_times = np.arange(0, 240)  # Time frame from 0 to 240 minutes\n",
    "        extended_concentrations = interpolation(extended_times)\n",
    "        # Simplified absorption and elimination modeling\n",
    "        absorption = 20 / (1 + np.exp(-0.1 * (extended_times - 60)))\n",
    "        elimination = extended_concentrations * np.exp(-0.05 * (extended_times - 60))\n",
    "        return extended_times, absorption * elimination\n",
    "\n",
    "    def calculate_auc(profile):\n",
    "        \"\"\"Calculate area under the curve (AUC) for the given profile.\"\"\"\n",
    "        return simps(profile, np.arange(0, 240))\n",
    "\n",
    "    def setup_streamlit_ui():\n",
    "        st.title('Mycophenolate Concentration and Pharmacokinetics')\n",
    "\n",
    "        C0 = st.number_input(\"Concentration at 0 minutes (ng/mL)\", value=0.0)\n",
    "        C40 = st.number_input(\"Concentration at 40 minutes (ng/mL)\", value=0.0)\n",
    "        C120 = st.number_input(\"Concentration after 2 hours (120 minutes) (ng/mL)\", value=0.0)\n",
    "\n",
    "        times = np.array([0, 40, 120])\n",
    "        concentrations = np.array([C0, C40, C120])\n",
    "\n",
    "        extended_times, profile = create_pharmacokinetic_profile(times, concentrations)\n",
    "\n",
    "        auc = calculate_auc(profile)\n",
    "        # Assuming similar linear combination for AUC estimation for Mycophenolate\n",
    "        mpa_auc = -1.86 + 6.7 * C0 + 1.19 * C40 + 4.8 * C120\n",
    "\n",
    "        plot_pharmacokinetic_curve(extended_times, profile, times, concentrations)\n",
    "\n",
    "        st.write(f'MPA-AUC: {mpa_auc:.2f}')\n",
    "        st.write(f'Calculated AUC: {auc:.2f}')\n",
    "        st.write(f'Formula for AUC calculation: -1.86 + 6.7 * C0 + 1.19 * C40 + 4.8 * C120')\n",
    "\n",
    "    def plot_pharmacokinetic_curve(extended_times, profile, times, concentrations):\n",
    "        \"\"\"Generate and display a matplotlib plot, highlighting absorption and elimination.\"\"\"\n",
    "        plt.figure(figsize=(10, 8))\n",
    "        plt.plot(extended_times, profile, color='blue', linewidth=2)\n",
    "        plt.fill_between(extended_times, 0, profile, color='blue', alpha=0.3)\n",
    "        plt.scatter(times, concentrations, color='red', s=100)  # Larger dots for measured data\n",
    "        cmax_index = np.argmax(profile)\n",
    "        plt.scatter(extended_times[cmax_index], profile[cmax_index], color='green', s=150)  # Cmax point\n",
    "        plt.text(extended_times[cmax_index], profile[cmax_index], f' Cmax: {profile[cmax_index]:.2f} ng/mL at {extended_times[cmax_index]} min', fontsize=12, verticalalignment='bottom')\n",
    "        plt.xlabel('Time (minutes)', fontsize=14)\n",
    "        plt.ylabel('Concentration (ng/mL)', fontsize=14)\n",
    "        plt.title('Pharmacokinetic Profile of Mycophenolate', fontsize=16)\n",
    "        plt.grid(True, which='both', linestyle='--', linewidth=0.5)\n",
    "        plt.ylim(bottom=0)\n",
    "        st.pyplot(plt)"
   ]
  }
 ],
 "metadata": {
  "kernelspec": {
   "display_name": "Python 3 (ipykernel)",
   "language": "python",
   "name": "python3"
  },
  "language_info": {
   "codemirror_mode": {
    "name": "ipython",
    "version": 3
   },
   "file_extension": ".py",
   "mimetype": "text/x-python",
   "name": "python",
   "nbconvert_exporter": "python",
   "pygments_lexer": "ipython3",
   "version": "3.11.3"
  }
 },
 "nbformat": 4,
 "nbformat_minor": 5
}
