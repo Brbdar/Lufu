{
 "cells": [
  {
   "cell_type": "code",
   "execution_count": 31,
   "id": "852098cb",
   "metadata": {},
   "outputs": [],
   "source": [
    "import streamlit as st\n",
    "import numpy as np\n",
    "import matplotlib.pyplot as plt\n",
    "from scipy.integrate import simps\n",
    "from scipy.interpolate import interp1d\n",
    "\n",
    "def tacr():\n",
    "    def pharmacokinetic_profile(times, concentrations):\n",
    "        interpolation = interp1d(times, concentrations, kind='linear', fill_value=\"extrapolate\")\n",
    "        extended_times = np.arange(0, 240)  # Zeitrahmen von 0 bis 240 Minuten\n",
    "        extended_concentrations = interpolation(extended_times)\n",
    "        absorption = 20 / (1 + np.exp(-0.1 * (extended_times - 60)))\n",
    "        elimination = extended_concentrations * np.exp(-0.05 * (extended_times - 60))\n",
    "        return absorption * elimination\n",
    "\n",
    "    st.title('Tacrolimus-Konzentration und Pharmakokinetik')\n",
    "\n",
    "    C0 = st.number_input(\"Konzentration bei 0 Minuten (ng/mL)\", value=0.0)\n",
    "    C40 = st.number_input(\"Konzentration bei 40 Minuten (ng/mL)\", value=0.0)\n",
    "    C120 = st.number_input(\"Konzentration nach 2 Stunden (120 Minuten) (ng/mL)\", value=0.0)\n",
    "\n",
    "    times = np.array([0, 40, 120])\n",
    "    concentrations = np.array([C0, C40, C120])\n",
    "\n",
    "    profile = pharmacokinetic_profile(times, concentrations)\n",
    "\n",
    "    auc = simps(profile, np.arange(0, 240))\n",
    "\n",
    "    # Berechnung der MPA-AUC nach der angegebenen Formel\n",
    "    mpa_auc = -1.86 + 6.7 * C0 + 1.19 * C40 + 4.8 * C120\n",
    "\n",
    "    plt.figure(figsize=(10, 8))\n",
    "    plt.plot(np.arange(0, 240), profile, color='blue', linewidth=2)\n",
    "    plt.fill_between(np.arange(0, 240), 0, profile, color='blue', alpha=0.3)\n",
    "    plt.scatter(times, concentrations, color='red', s=100)  # Größere Punkte für Messdaten\n",
    "    plt.xlabel('Zeit (Minuten)', fontsize=14)\n",
    "    plt.ylabel('Konzentration (ng/mL)', fontsize=14)\n",
    "    plt.title('Pharmakokinetischer Verlauf der Tacrolimus-Konzentration', fontsize=16)\n",
    "    plt.grid(True, which='both', linestyle='--', linewidth=0.5)\n",
    "    plt.ylim(bottom=0)\n",
    "    \n",
    "    # Keine Legende anzeigen\n",
    "    # plt.legend(loc='upper right', fontsize=12)\n",
    "\n",
    "    average_concentration = np.mean(concentrations)\n",
    "    plt.text(0.98, 0.98, f'Durchschnitt: {average_concentration:.2f} ng/mL',\n",
    "             horizontalalignment='right', verticalalignment='top', transform=plt.gca().transAxes, fontsize=12, color='green')\n",
    "    \n",
    "    st.pyplot(plt)\n",
    "    \n",
    "    st.write(f'MPA-AUC: {mpa_auc:.2f}')\n",
    "    st.write(f'Berechnete MPA-AUC: {auc:.2f}')\n",
    "    st.write(f'Formel zur Berechnung der MPA-AUC: -1.86 + 6.7 * C0 + 1.19 * C40 + 4.8 * C120')\n",
    "\n"
   ]
  }
 ],
 "metadata": {
  "kernelspec": {
   "display_name": "Python 3 (ipykernel)",
   "language": "python",
   "name": "python3"
  },
  "language_info": {
   "codemirror_mode": {
    "name": "ipython",
    "version": 3
   },
   "file_extension": ".py",
   "mimetype": "text/x-python",
   "name": "python",
   "nbconvert_exporter": "python",
   "pygments_lexer": "ipython3",
   "version": "3.11.3"
  }
 },
 "nbformat": 4,
 "nbformat_minor": 5
}
