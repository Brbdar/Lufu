{
 "cells": [
  {
   "cell_type": "code",
   "execution_count": 4,
   "id": "9bba8aef",
   "metadata": {},
   "outputs": [],
   "source": [
    "import streamlit as st\n",
    "\n",
    "def rhkbefund():\n",
    "    st.header(\"der RHK Befund\")\n",
    "    \n",
    "    # Benutzereingaben\n",
    "\n",
    "\n",
    "    # Titel der Streamlit-App\n",
    "    st.title('Befundgenerator für pulmonale Hypertonie (in Arbeit)')\n",
    "\n",
    "    # Benutzereingaben für pulmonale Hypertonie\n",
    "    PAPm = st.number_input('PAPm (mmHg):', min_value=0.0, format='%f')\n",
    "    PAWP = st.number_input('PAWP (mmHg):', min_value=0.0, format='%f')\n",
    "    PVR = st.number_input('PVR (WE):', min_value=0.0, format='%f')\n",
    "    HZV = st.number_input('HZV (l/min) [nur für Belastung PH]:', min_value=0.0, format='%f', help='Bitte nur ausfüllen, wenn Belastung PH bewertet wird.')\n",
    "\n",
    "    # Logik zur Bestimmung der PH-Kategorie\n",
    "    def determine_ph_category(PAPm, PAWP, PVR, HZV):\n",
    "        if PAPm <= 20:\n",
    "            return 'Keine PH'\n",
    "        elif PAWP <= 15 and PVR > 2:\n",
    "            return 'Präkapilläre PH'\n",
    "        elif PAWP > 15 and PVR <= 2:\n",
    "            return 'Isoliert postkapilläre PH (IpcPH)'\n",
    "        elif PAWP > 15 and PVR > 2:\n",
    "            return 'Kombiniert post- und präkapillare PH (CpcPH)'\n",
    "        elif HZV > 0 and (PAPm / HZV) > 3:\n",
    "            return 'Belastung PH'\n",
    "        else:\n",
    "            return 'PH, aber die Kategorie kann nicht bestimmt werden aufgrund der gegebenen Werte'\n",
    "\n",
    "    # NYHA Klassifikation Abfrage\n",
    "    nyha_class = st.radio(\n",
    "        \"Wählen Sie die NYHA-Klasse des Patienten:\",\n",
    "        ('NYHA Klasse I', 'NYHA Klasse II', 'NYHA Klasse III', 'NYHA Klasse IV')\n",
    "    )\n",
    "\n",
    "    # Beschreibungstexte für jede Klassifikation\n",
    "    class_descriptions = {\n",
    "        'NYHA I',\n",
    "        'NYHA II',\n",
    "        'NYHA III',\n",
    "        'NYHA IV',\n",
    "    }\n",
    "\n",
    "    # Zusammenfassung der Befunde\n",
    "    ph_category = determine_ph_category(PAPm, PAWP, PVR, HZV)\n",
    "    nyha_description = class_descriptions[nyha_class]\n",
    "\n",
    "    # Anzeigen des zusammenhängenden Fließtextes\n",
    "    st.write(f\"**Zusammenfassung des Befundes:** Basierend auf den Eingaben ist die Diagnose {ph_category}. Bezüglich der NYHA-Klassifikation fällt der Patient unter {nyha_class}: {nyha_description}\")"
   ]
  }
 ],
 "metadata": {
  "kernelspec": {
   "display_name": "Python 3 (ipykernel)",
   "language": "python",
   "name": "python3"
  },
  "language_info": {
   "codemirror_mode": {
    "name": "ipython",
    "version": 3
   },
   "file_extension": ".py",
   "mimetype": "text/x-python",
   "name": "python",
   "nbconvert_exporter": "python",
   "pygments_lexer": "ipython3",
   "version": "3.11.3"
  }
 },
 "nbformat": 4,
 "nbformat_minor": 5
}
