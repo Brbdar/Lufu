{
 "cells": [
  {
   "cell_type": "code",
   "execution_count": 1,
   "id": "a7e9423e",
   "metadata": {},
   "outputs": [],
   "source": [
    "import streamlit as st\n",
    "\n",
    "def Klinik():\n",
    "    st.header(\"Diagnoste Algorithmus PH - Klinik bei pulmonaler Hypertonie\")\n",
    "\n",
    "    # Datenstruktur für Symptome und deren detaillierte physiologische Beschreibungen\n",
    "    symptome = {\n",
    "        \"Belastungsdyspnoe\": \"Dyspnoe bei Belastung durch erhöhte Nachlast, verminderte Compliance und erschwerte Rechtsherzauswurfleistung.\",\n",
    "        \"Fatigue und Abgeschlagenheit\": \"Resultiert aus unzureichender Sauerstoffversorgung der Muskulatur und gesteigerter metabolischer Anforderung bei chronischer Herzbelastung.\",\n",
    "        \"Dyspnoe beim Vorüberbeugen\": \"Bendopnoe, ausgelöst durch die Verlagerung intrathorakaler Blutvolumina, was den Druck im rechten Herzen weiter erhöht.\",\n",
    "        \"Palpitationen\": \"Häufig durch Tachyarrhythmien als Antwort auf Hypoxie und rechtsventrikuläre Belastung.\",\n",
    "        \"Hämoptysen\": \"Typischerweise ein Indikator für eine extreme Belastung der pulmonalen Zirkulation, die zu Kapillarrupturen führen kann.\",\n",
    "        # Weitere Symptome und deren Beschreibungen\n",
    "    }\n",
    "\n",
    "\n",
    "    # Einführungstext\n",
    "    st.markdown('''\n",
    "    Pulmonale Hypertonie ist gekennzeichnet durch den progressiven Anstieg des pulmonalen arteriellen Drucks, der zu einer schweren Belastung und schließlich zum Versagen des rechten Ventrikels führt.\n",
    "    Die folgende Übersicht bietet Einblick in die vielfältigen Symptome, die mit verschiedenen Stadien dieser komplexen Erkrankung assoziiert sind:\n",
    "    ''')\n",
    "\n",
    "    # Auswahlbox für Symptome\n",
    "    symptom_auswahl = st.selectbox('Wählen Sie ein Symptom aus:', list(symptome.keys()))\n",
    "\n",
    "    # Anzeige der Beschreibung zum ausgewählten Symptom\n",
    "    st.subheader('Beschreibung des Symptoms:')\n",
    "    st.write(symptome[symptom_auswahl])\n",
    "\n",
    "    # Erweiterte Erklärung der Pathophysiologie\n",
    "    st.subheader('Pathophysiologie der pulmonalen Hypertonie:')\n",
    "    st.markdown('''\n",
    "    Pulmonale Hypertonie führt zu einer progressiven Belastung des rechten Ventrikels, die initial bei körperlicher Anstrengung symptomatisch wird und in fortgeschrittenen Stadien auch in Ruhe manifest sein kann. Eine zentrale Rolle spielen dabei die chronische Druckerhöhung im kleinen Kreislauf und die daraus resultierende Hypertrophie und Dilatation des rechten Ventrikels.\n",
    "    ''')\n",
    "\n",
    "\n",
    "    \n",
    "    # Bild einfügen\n",
    "    st.image(\"klinik.jpg\", caption=\"Visualisierung der Klinik\")\n",
    "\n",
    "    # Link zu den Leitlinien\n",
    "    st.markdown('''\n",
    "    Weitere Informationen finden Sie in den [Leitlinien zur pulmonalen Hypertonie](https://academic.oup.com/eurheartj/article/43/38/3618/6673929?login=false#413902448).\n",
    "    ''')"
   ]
  },
  {
   "cell_type": "code",
   "execution_count": null,
   "id": "f631b2dc",
   "metadata": {},
   "outputs": [],
   "source": []
  }
 ],
 "metadata": {
  "kernelspec": {
   "display_name": "Python 3 (ipykernel)",
   "language": "python",
   "name": "python3"
  },
  "language_info": {
   "codemirror_mode": {
    "name": "ipython",
    "version": 3
   },
   "file_extension": ".py",
   "mimetype": "text/x-python",
   "name": "python",
   "nbconvert_exporter": "python",
   "pygments_lexer": "ipython3",
   "version": "3.11.7"
  }
 },
 "nbformat": 4,
 "nbformat_minor": 5
}
