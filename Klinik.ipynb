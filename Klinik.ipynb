{
 "cells": [
  {
   "cell_type": "code",
   "execution_count": 2,
   "id": "a7e9423e",
   "metadata": {},
   "outputs": [],
   "source": [
    "import streamlit as st\n",
    "\n",
    "def Klinik():\n",
    "    st.header(\"Klinik\")\n",
    "\n",
    "    # Datenstruktur für Symptome und Beschreibungen\n",
    "    symptome = {\n",
    "        \"Belastungsdyspnoe\": \"Dyspnoe, die typischerweise bei körperlicher Anstrengung auftritt und durch eine Dysfunktion des rechten Ventrikels verursacht wird.\",\n",
    "        \"Fatigue und Abgeschlagenheit\": \"Allgemeines Gefühl der Ermüdung, das sich mit fortschreitender Krankheit verschlimmert.\",\n",
    "        \"Dyspnoe beim Vorüberbeugen\": \"Atemnot, die beim Vorbeugen auftritt, bekannt als Bendopnoe.\",\n",
    "        \"Palpitationen\": \"Unangenehm spürbare Herzschläge, die durch den erhöhten Arbeitsaufwand des Herzens entstehen können.\",\n",
    "        \"Hämoptysen\": \"Aushusten von Blut, was auf schwere Krankheitszustände hinweisen kann.\",\n",
    "        # Fügen Sie hier weitere Symptome und deren Beschreibungen hinzu\n",
    "    }\n",
    "\n",
    "    # Titel der App\n",
    "    st.title('Lerneinheit zur Klinik bei PH-Patienten')\n",
    "\n",
    "    # Einführungstext\n",
    "    st.markdown('''\n",
    "    Die pulmonale Hypertonie (PH) ist eine ernsthafte Erkrankung, die vor allem durch eine Dysfunktion des rechten Ventrikels charakterisiert wird.\n",
    "    Die Symptome und klinischen Zeichen variieren je nach Stadium und Schweregrad der Erkrankung. Hier eine Übersicht der Symptome:\n",
    "    ''')\n",
    "\n",
    "    # Auswahlbox für Symptome\n",
    "    symptom_auswahl = st.selectbox('Wählen Sie ein Symptom aus der Liste:', list(symptome.keys()))\n",
    "\n",
    "    # Anzeige der Beschreibung zum ausgewählten Symptom\n",
    "    st.subheader('Beschreibung des Symptoms:')\n",
    "    st.write(symptome[symptom_auswahl])\n",
    "\n",
    "    # Erklärung der Dysfunktion des rechten Ventrikels\n",
    "    st.subheader('Dysfunktion des rechten Ventrikels und PH:')\n",
    "    st.markdown('''\n",
    "    Die Symptome der PH sind hauptsächlich auf eine Dysfunktion des rechten Ventrikels zurückzuführen. Diese manifestieren sich im Frühstadium der Erkrankung typischerweise bei körperlicher Anstrengung.\n",
    "    Ein Schlüsselsymptom ist die Dyspnoe, die zunehmend auch unter geringerer Belastung auftritt.\n",
    "    ''')\n",
    "\n",
    "    # Hinweis für die Nutzer, wie sie die App verwenden können\n",
    "    st.sidebar.info('Nutzen Sie diese App, um durch die verschiedenen Symptome der pulmonalen Hypertonie zu navigieren und lernen Sie mehr über deren Zusammenhang mit der rechten Ventrikeldysfunktion.')\n"
   ]
  },
  {
   "cell_type": "code",
   "execution_count": null,
   "id": "f631b2dc",
   "metadata": {},
   "outputs": [],
   "source": []
  }
 ],
 "metadata": {
  "kernelspec": {
   "display_name": "Python 3 (ipykernel)",
   "language": "python",
   "name": "python3"
  },
  "language_info": {
   "codemirror_mode": {
    "name": "ipython",
    "version": 3
   },
   "file_extension": ".py",
   "mimetype": "text/x-python",
   "name": "python",
   "nbconvert_exporter": "python",
   "pygments_lexer": "ipython3",
   "version": "3.11.3"
  }
 },
 "nbformat": 4,
 "nbformat_minor": 5
}
